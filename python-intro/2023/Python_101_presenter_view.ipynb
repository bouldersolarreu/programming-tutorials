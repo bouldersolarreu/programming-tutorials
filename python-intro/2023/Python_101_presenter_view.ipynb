{
  "nbformat": 4,
  "nbformat_minor": 0,
  "metadata": {
    "colab": {
      "provenance": [],
      "collapsed_sections": [
        "FGts7vqfaEaS",
        "Gdy4Ws97aSb8",
        "kNrh1g-FadxZ",
        "wmT91apTaT65",
        "T9NwpGwcaqNy",
        "3gLuxzDNe2z5",
        "aawaKOAm-OGQ",
        "cNt1BzQy-Pn1",
        "5MSLMEVI-WPo",
        "_-Smct1S-tOw",
        "5_gGOxyebxfZ",
        "Wioio5YbbxZ-",
        "W_9VfZZdBRq_",
        "jTDu3gVJAw0r",
        "7xp5IEg7CdSz"
      ],
      "toc_visible": true
    },
    "kernelspec": {
      "name": "python3",
      "display_name": "Python 3"
    },
    "language_info": {
      "name": "python"
    }
  },
  "cells": [
    {
      "cell_type": "markdown",
      "source": [
        "Most of this tutorial is cobbled together from parts of \"How to think like a computer scientist: Learning with Python.\" This is a great resource that goes a lot more in depth than I will."
      ],
      "metadata": {
        "id": "ngrnd0KudEop"
      }
    },
    {
      "cell_type": "markdown",
      "source": [
        "# First Step: Hello, World!"
      ],
      "metadata": {
        "id": "FGts7vqfaEaS"
      }
    },
    {
      "cell_type": "code",
      "source": [
        "print(\"Hello, World!\")"
      ],
      "metadata": {
        "id": "yHCVTTD0W0Bn"
      },
      "execution_count": null,
      "outputs": []
    },
    {
      "cell_type": "markdown",
      "source": [
        "# Basic math\n"
      ],
      "metadata": {
        "id": "Gdy4Ws97aSb8"
      }
    },
    {
      "cell_type": "code",
      "source": [
        "1 + 2 "
      ],
      "metadata": {
        "id": "TKTtwEeHaV-v"
      },
      "execution_count": null,
      "outputs": []
    },
    {
      "cell_type": "markdown",
      "source": [
        "Jupyter will only print the output of the last line in each cell."
      ],
      "metadata": {
        "id": "LVQZOqVeafWW"
      }
    },
    {
      "cell_type": "code",
      "source": [
        "1 + 2\n",
        "6 / 3"
      ],
      "metadata": {
        "id": "W4wGj7_FakEe"
      },
      "execution_count": null,
      "outputs": []
    },
    {
      "cell_type": "markdown",
      "source": [
        "## 1"
      ],
      "metadata": {
        "id": "kNrh1g-FadxZ"
      }
    },
    {
      "cell_type": "markdown",
      "source": [
        "$$6 \\times 5 - 6 \\times 3^2 \\times \\frac{2^3}{4} \\times 7 = -726.0$$"
      ],
      "metadata": {
        "id": "ZMHIBzxZ93AS"
      }
    },
    {
      "cell_type": "markdown",
      "source": [
        "### answer"
      ],
      "metadata": {
        "id": "wmT91apTaT65"
      }
    },
    {
      "cell_type": "code",
      "source": [
        "6*5-6*3**2*2**3/4*7"
      ],
      "metadata": {
        "id": "7z6y01bV9v9e"
      },
      "execution_count": null,
      "outputs": []
    },
    {
      "cell_type": "markdown",
      "source": [
        "## 2\n",
        "$$(6 \\times 5 - (6 \\times 3))^2 \\times (\\frac{(2^3)}{4} \\times 7)$$\n"
      ],
      "metadata": {
        "id": "VTJPtdDR910K"
      }
    },
    {
      "cell_type": "markdown",
      "source": [
        "### answer"
      ],
      "metadata": {
        "id": "bHJLYdE4ajJa"
      }
    },
    {
      "cell_type": "code",
      "source": [
        "(6*5-(6*3))**2*((2**3)/4*7)"
      ],
      "metadata": {
        "id": "hgNyfTdk9yhw"
      },
      "execution_count": null,
      "outputs": []
    },
    {
      "cell_type": "markdown",
      "source": [
        "Much like order of operations, Python has rules for evaluating expressions. As we saw, for math, this means following pemdas."
      ],
      "metadata": {
        "id": "zRdz-prUZL0J"
      }
    },
    {
      "cell_type": "code",
      "source": [
        "# First, evaluate what's inside the parentheses. Then, run `abs` on that value. \n",
        "abs(1.11 - 12.3)"
      ],
      "metadata": {
        "id": "17vK7S82ZQnp"
      },
      "execution_count": null,
      "outputs": []
    },
    {
      "cell_type": "markdown",
      "source": [
        "# Variables and Types"
      ],
      "metadata": {
        "id": "T9NwpGwcaqNy"
      }
    },
    {
      "cell_type": "code",
      "source": [
        "x = 10\n",
        "x + 4"
      ],
      "metadata": {
        "id": "paWjrdAqat40"
      },
      "execution_count": null,
      "outputs": []
    },
    {
      "cell_type": "markdown",
      "source": [
        "Variables are carried across cells."
      ],
      "metadata": {
        "id": "gbkUxHMLa0Ir"
      }
    },
    {
      "cell_type": "code",
      "source": [
        "x + 2"
      ],
      "metadata": {
        "id": "pT2zuOkvayXe"
      },
      "execution_count": null,
      "outputs": []
    },
    {
      "cell_type": "markdown",
      "source": [
        "Variable names in Python are traditionally lowercase, with underscores seperating the words. Variables should be descriptive and unique."
      ],
      "metadata": {
        "id": "hOEJscFObIMO"
      }
    },
    {
      "cell_type": "code",
      "source": [
        "starting_value = 2\n",
        "difference = 4\n",
        "ending_value = starting_value - difference\n",
        "print(ending_value)"
      ],
      "metadata": {
        "id": "_UmFDZi4bAkA"
      },
      "execution_count": null,
      "outputs": []
    },
    {
      "cell_type": "markdown",
      "source": [
        "You can update a variables value"
      ],
      "metadata": {
        "id": "-KTgiLaUayjd"
      }
    },
    {
      "cell_type": "code",
      "source": [
        "x = 3\n",
        "print(x)\n",
        "\n",
        "x = 4\n",
        "print(x)\n",
        "\n",
        "x = x + 1\n",
        "print(x)"
      ],
      "metadata": {
        "id": "LEUk3zTta1JH"
      },
      "execution_count": null,
      "outputs": []
    },
    {
      "cell_type": "markdown",
      "source": [
        "Variable names cannot collide with certain protected values in Python. These values will be distinguished with a different color."
      ],
      "metadata": {
        "id": "OLsGiGSiX4wM"
      }
    },
    {
      "cell_type": "code",
      "source": [
        "# INVALID\n",
        "assert = 1\n",
        "type = 1"
      ],
      "metadata": {
        "id": "sXrfW7IiYB8R"
      },
      "execution_count": null,
      "outputs": []
    },
    {
      "cell_type": "code",
      "source": [
        "biweekly_salary = 1240\n",
        "monthly_salary = 2 * biweekly_salary\n",
        "number_of_months_in_a_year = 12\n",
        "yearly_salary = number_of_months_in_a_year * monthly_salary\n",
        "yearly_salary"
      ],
      "metadata": {
        "id": "vSMnYWZ_WZbg"
      },
      "execution_count": null,
      "outputs": []
    },
    {
      "cell_type": "markdown",
      "source": [
        "Each variable has a type associated with it. For example, numbers without a decimal are called integers, and numbers with a decimal are called floats. Other types include things like Strings, lists, or Pandas Dataframes.\n",
        "\n",
        "To go from one type to another, or to enforce a type, you can _cast_ values from one type to another.\n",
        "\n",
        "Python handles most type managment, but it can come up with errors occasionally."
      ],
      "metadata": {
        "id": "e6chiMZzWeL9"
      }
    },
    {
      "cell_type": "code",
      "source": [
        "print(type(2.3))\n",
        "\n",
        "print(type(1))\n",
        "print(type(float(1)))\n",
        "\n",
        "decimal = 2.3\n",
        "whole_number = int(decimal)\n",
        "\n",
        "print(\"\\n\")\n",
        "print(\"Decimal types:\")\n",
        "print(\"number: \", decimal)\n",
        "print(\"type: \", type(decimal))\n",
        "\n",
        "print(\"\\n\")\n",
        "print(\"Whole number types:\")\n",
        "print(\"number: \",whole_number)\n",
        "print(\"type: \", type(whole_number))"
      ],
      "metadata": {
        "id": "8eS9_i8wWx2O"
      },
      "execution_count": null,
      "outputs": []
    },
    {
      "cell_type": "code",
      "source": [
        "# You can also convert from a string to a float or integer. \n",
        "number_str = \"1\"\n",
        "number_int = int(number_str)\n",
        "\n",
        "print(\"String version: \", number_str, \" string version type: \", type(number_str))\n",
        "print(\"Int version: \", number_int, \" Int version type: \", type(number_int))\n"
      ],
      "metadata": {
        "id": "dQzedphLXgBc"
      },
      "execution_count": null,
      "outputs": []
    },
    {
      "cell_type": "markdown",
      "source": [
        "A snippet of text is represented by a string value in Python. The word \"string\" is a computer science term for a sequence of characters. A string might contain a single character, a word, a sentence, or a whole book.\n",
        "\n",
        "To distinguish text data from actual code, we demarcate strings by putting quotation marks around them. Single quotes (') and double quotes (\") are both valid. The contents can be any sequence of characters, including numbers and symbols. "
      ],
      "metadata": {
        "id": "fvl_nAh4krEr"
      }
    },
    {
      "cell_type": "code",
      "source": [
        "print(\"This is an example \", \"of a string\")"
      ],
      "metadata": {
        "id": "FzsWEn98k8H5"
      },
      "execution_count": null,
      "outputs": []
    },
    {
      "cell_type": "markdown",
      "source": [
        "There are some methods you can call on strings."
      ],
      "metadata": {
        "id": "snE2sAJdkxsq"
      }
    },
    {
      "cell_type": "code",
      "source": [
        "# Replace one letter\n",
        "'Hello'.replace('o', 'a')"
      ],
      "metadata": {
        "id": "kG-IN7oYlHfp"
      },
      "execution_count": null,
      "outputs": []
    },
    {
      "cell_type": "code",
      "source": [
        "'hitchhiker'.replace('hi', 'ma')"
      ],
      "metadata": {
        "id": "ZSMwHKO2lKtc"
      },
      "execution_count": null,
      "outputs": []
    },
    {
      "cell_type": "markdown",
      "source": [
        "# If statements and booleans"
      ],
      "metadata": {
        "id": "3gLuxzDNe2z5"
      }
    },
    {
      "cell_type": "markdown",
      "source": [
        "A boolean is true or false. This can also be represented as 1 (true) or 0 (false). At the lowest level, all computer programs are eventually reduced down to 1s and 0s. At a high level, booleans are very useful for branching logic. "
      ],
      "metadata": {
        "id": "k_THLOAnjUyG"
      }
    },
    {
      "cell_type": "code",
      "source": [
        "true = True\n",
        "false = False\n",
        "\n",
        "if true:\n",
        "  print(\"This is true\")\n",
        "\n",
        "if false:\n",
        "  print(\"Since this is false, this line will not get printed\")\n",
        "\n",
        "if not false:\n",
        "  print(\"This is not false\")"
      ],
      "metadata": {
        "id": "8oRiANuwkdF5"
      },
      "execution_count": null,
      "outputs": []
    },
    {
      "cell_type": "code",
      "source": [
        "# Change me\n",
        "a = True\n",
        "b = False\n",
        "\n",
        "if a and b:\n",
        "  print(\"Both a and b are true\")\n",
        "\n",
        "if a or b:\n",
        "  print(\"Either a or b is true (or both)\")\n",
        "\n",
        "if a == b:\n",
        "  print(\"A and b are equal\")\n",
        "\n",
        "if a != b:\n",
        "  print(\"a and b are not equal\")\n",
        "\n",
        "c = True\n",
        "\n",
        "if (a == b and c):\n",
        "  print(\"a and b are equal and c is true\")"
      ],
      "metadata": {
        "id": "aCG3b7N7k5RK"
      },
      "execution_count": null,
      "outputs": []
    },
    {
      "cell_type": "code",
      "source": [
        "is_a_bird = False\n",
        "is_a_plane = False\n",
        "\n",
        "if not is_a_bird:\n",
        "  print(\"Is it a bird? No\")\n",
        "\n",
        "if not is_a_plane:\n",
        "  print(\"Is it a plane? No\")\n",
        "\n",
        "if not is_a_bird and not is_a_plane:\n",
        "  print(\"It's superman!\")\n"
      ],
      "metadata": {
        "id": "7yXiqjnfe5o5"
      },
      "execution_count": null,
      "outputs": []
    },
    {
      "cell_type": "markdown",
      "source": [
        "Booleans can also be created through equality statements with numbers (and lots of other ways.)"
      ],
      "metadata": {
        "id": "mYlBkDjolxVD"
      }
    },
    {
      "cell_type": "code",
      "source": [
        "x = 1\n",
        "y = 3\n",
        "c = True\n",
        "\n",
        "if x <= 10:\n",
        "  print(\"x is less than or equal to 10\")\n",
        "if x > -10 and x < 10:\n",
        "  print(\"X is between -10 and 10\")\n",
        "\n",
        "  "
      ],
      "metadata": {
        "id": "fKR5S1H2lwmQ"
      },
      "execution_count": null,
      "outputs": []
    },
    {
      "cell_type": "markdown",
      "source": [
        "# Errors"
      ],
      "metadata": {
        "id": "aawaKOAm-OGQ"
      }
    },
    {
      "cell_type": "markdown",
      "source": [
        "## Syntax errors"
      ],
      "metadata": {
        "id": "cNt1BzQy-Pn1"
      }
    },
    {
      "cell_type": "markdown",
      "source": [
        "A Syntax error is an error in the way the program is written. **Syntax** refers to the structure of a program and the rules about that structure. For example, in English, a sentence must begin with a capital letter and end with a period. this sentence contains a syntax error. So does this one\n",
        "\n",
        "When these syntax errors are encountered in Python, the program will throw an error and stop."
      ],
      "metadata": {
        "id": "Ud_PBcs6-ziK"
      }
    },
    {
      "cell_type": "code",
      "source": [
        "x = 3\n",
        "if (x = 9:\n",
        "    print(\"x is 9\")"
      ],
      "metadata": {
        "id": "7VWWn4uq_P0Z"
      },
      "execution_count": null,
      "outputs": []
    },
    {
      "cell_type": "markdown",
      "source": [
        "## Logic Errors"
      ],
      "metadata": {
        "id": "5MSLMEVI-WPo"
      }
    },
    {
      "cell_type": "markdown",
      "source": [
        "Logic errors can be difficult to track down. The program may run without errors, but behave in unexpected or incorrect ways. "
      ],
      "metadata": {
        "id": "s4OFQ0nZ_ZLH"
      }
    },
    {
      "cell_type": "code",
      "source": [
        "# This computes (2 + 4) / 3 = 2.\n",
        "print(2 + 4 / 3)"
      ],
      "metadata": {
        "id": "KEeoL-hV_jja"
      },
      "execution_count": null,
      "outputs": []
    },
    {
      "cell_type": "code",
      "source": [
        "width = int(input(\"Please enter the width of a rectangle \"))\n",
        "height = int(input(\"Please enter the height of a rectangle \"))\n",
        "\n",
        "area = width * height\n",
        "print(\"The area of the rectangle is \" + str(area))\n",
        "\n",
        "perimeter = width + width + height\n",
        "print(\"The perimeter of the rectangle is \" + str(area))\n"
      ],
      "metadata": {
        "id": "CvOuZpUW_5zl"
      },
      "execution_count": null,
      "outputs": []
    },
    {
      "cell_type": "markdown",
      "source": [
        "## Runtime Errors"
      ],
      "metadata": {
        "id": "_-Smct1S-tOw"
      }
    },
    {
      "cell_type": "markdown",
      "source": [
        "Finally, there are runtime errors, so called because the error does not appear until you run the program. These errors are also called exceptions because they usually indicate that something exceptional (and bad) has happened."
      ],
      "metadata": {
        "id": "6ciiCmsTAA2q"
      }
    },
    {
      "cell_type": "code",
      "source": [
        "width = int(input(\"Please enter the width of a rectangle \"))\n",
        "height = int(input(\"Please enter the height of a rectangle \"))\n",
        "\n",
        "area = width * height\n",
        "print(\"The area of the rectangle is \" + str(area))\n",
        "\n",
        "perimeter = width + width + height\n",
        "print(\"The perimeter of the rectangle is \" + str(area))\n"
      ],
      "metadata": {
        "id": "okofttTZAiFP"
      },
      "execution_count": null,
      "outputs": []
    },
    {
      "cell_type": "markdown",
      "source": [
        "# Application: Manhattan Distance"
      ],
      "metadata": {
        "id": "lD-e3d6RBdBp"
      }
    },
    {
      "cell_type": "markdown",
      "metadata": {
        "id": "ulEwtUP_NpvJ"
      },
      "source": [
        "Chunhua is on the corner of 7th Avenue and 42nd Street in Midtown Manhattan, and she wants to know far she'd have to walk to get to Gramercy School on the corner of 10th Avenue and 34th Street.\n",
        "\n",
        "She can't cut across blocks diagonally, since there are buildings in the way.  She has to walk along the sidewalks.  Using the map below, she sees she'd have to walk 3 avenues (long blocks) and 8 streets (short blocks).  In terms of the given numbers, she computed 3 as the difference between 7 and 10, *in absolute value*, and 8 similarly.  \n",
        "\n",
        "Chunhua also knows that blocks in Manhattan are all about 80m by 274m (avenues are farther apart than streets).  So in total, she'd have to walk $(80 \\times |42 - 34| + 274 \\times |7 - 10|)$ meters to get to the park.\n",
        "\n",
        "<img src=\"https://github.com/cu-applied-math/stem-camp-notebooks/blob/master/2021/PythonIntro/figs/map.jpg?raw=1\"/>\n",
        "\n",
        "### QUESTION 1\n",
        "Write some code to compute the distance Chunhua needs to walk. "
      ]
    },
    {
      "cell_type": "code",
      "source": [],
      "metadata": {
        "id": "wIv7yXSgOR1q"
      },
      "execution_count": null,
      "outputs": []
    },
    {
      "cell_type": "markdown",
      "source": [
        "## Answer"
      ],
      "metadata": {
        "id": "moELCqNrOSOP"
      }
    },
    {
      "cell_type": "code",
      "execution_count": 17,
      "metadata": {
        "id": "k_IHaTgONpvJ",
        "outputId": "03aecd35-3992-4136-f96c-59adc3f7a553",
        "colab": {
          "base_uri": "https://localhost:8080/"
        }
      },
      "outputs": [
        {
          "output_type": "execute_result",
          "data": {
            "text/plain": [
              "3494"
            ]
          },
          "metadata": {},
          "execution_count": 17
        }
      ],
      "source": [
        "# Here's the number of streets away:\n",
        "num_streets_away = abs(42-34)\n",
        "\n",
        "# Compute the number of avenues away in a similar way:\n",
        "num_avenues_away = abs(7-10)\n",
        "\n",
        "street_length_m = 80\n",
        "avenue_length_m = 274\n",
        "\n",
        "# Now we compute the total distance Chunhua must walk.\n",
        "manhattan_distance = street_length_m*num_streets_away + avenue_length_m*num_avenues_away\n",
        "\n",
        "# We've included this line so that you see the distance\n",
        "# you've computed when you run this cell.  You don't need\n",
        "# to change it, but you can if you want.\n",
        "manhattan_distance"
      ]
    },
    {
      "cell_type": "markdown",
      "source": [
        "# Functions and methods"
      ],
      "metadata": {
        "id": "hAwXEcdpAuNL"
      }
    },
    {
      "cell_type": "markdown",
      "source": [
        "We have used some functions so far - things like `int()`, `print()`, and `input()` are all functions. What is a function? \n",
        "\n",
        "A function encapsulates a piece of code which can then be run easily without rewriting the code. All the functions we have used so far are built into Python. "
      ],
      "metadata": {
        "id": "pLcARjgvYyV4"
      }
    },
    {
      "cell_type": "code",
      "source": [
        "# Using functions \n",
        "number = -10\n",
        "\n",
        "# A function can take in a value\n",
        "positive_number = abs(-10)\n",
        "\n",
        "# or multiple values\n",
        "bigger_number = max(number, positive_number)\n",
        "\n",
        "print(f'Our starting number is {number}. The absolute value of that number is {positive_number}, and the maximum of those two numbers is {bigger_number}.')"
      ],
      "metadata": {
        "id": "9GedIwCSZmuw"
      },
      "execution_count": null,
      "outputs": []
    },
    {
      "cell_type": "markdown",
      "metadata": {
        "id": "BkpVqwl9e8H_"
      },
      "source": [
        "##### Multiple arguments\n",
        "Some functions take multiple arguments, separated by commas. For example, the built-in `max` function returns the maximum argument passed to it."
      ]
    },
    {
      "cell_type": "code",
      "execution_count": null,
      "metadata": {
        "id": "6_FZu_0he8IA"
      },
      "outputs": [],
      "source": [
        "max(2, -3, 4, -5)"
      ]
    },
    {
      "cell_type": "markdown",
      "source": [
        "You can define your own functions. Although functions can return values, they don't have to. This is an example of a function that does not return a value. "
      ],
      "metadata": {
        "id": "tGssZ8Y3a77l"
      }
    },
    {
      "cell_type": "code",
      "source": [
        "# Our own max function\n",
        "def custom_max(first, second):\n",
        "  if first >= second:\n",
        "    print(\"The first is bigger than the second\")\n",
        "  else:\n",
        "    print(\"The second is bigger than the first\")\n",
        "\n"
      ],
      "metadata": {
        "id": "r_9IvnFiaq5e"
      },
      "execution_count": null,
      "outputs": []
    },
    {
      "cell_type": "code",
      "source": [
        "custom_max(10, 11)\n",
        "\n",
        "test_variable = custom_max(10, 11)\n",
        "print(test_variable)"
      ],
      "metadata": {
        "id": "D5tvk8YRbEgR"
      },
      "execution_count": null,
      "outputs": []
    },
    {
      "cell_type": "markdown",
      "source": [
        "To return something, we use the return key word. The best practice is to only return one thing at the end of the function."
      ],
      "metadata": {
        "id": "Q7KQdJg9bT2H"
      }
    },
    {
      "cell_type": "code",
      "source": [
        "def returnable_max(first, second):\n",
        "  max = None\n",
        "  if first >= second:\n",
        "    max = first\n",
        "  else:\n",
        "    max = second\n",
        "  return max"
      ],
      "metadata": {
        "id": "GrMFn67YbNie"
      },
      "execution_count": null,
      "outputs": []
    },
    {
      "cell_type": "code",
      "source": [
        "returnable_max(10, 11)\n",
        "\n",
        "test_variable = returnable_max(10, 11)\n",
        "print(test_variable)"
      ],
      "metadata": {
        "id": "uYncFtVVbgSh"
      },
      "execution_count": null,
      "outputs": []
    },
    {
      "cell_type": "code",
      "source": [
        "# A function doesn't need to return anything, or accept any variables.\n",
        "def say_hi():\n",
        "  print(\"Hi!\")"
      ],
      "metadata": {
        "id": "DmJxKhl7bmn-"
      },
      "execution_count": null,
      "outputs": []
    },
    {
      "cell_type": "code",
      "source": [
        "say_hi()"
      ],
      "metadata": {
        "id": "c35OjlqpbsvZ"
      },
      "execution_count": null,
      "outputs": []
    },
    {
      "cell_type": "markdown",
      "source": [
        "The variables inside a function are unique to the inside of this function. This means you can have clashing variable names without having them interact."
      ],
      "metadata": {
        "id": "luHeNqs4bRBu"
      }
    },
    {
      "cell_type": "code",
      "source": [
        "def add_up(x, y):\n",
        "  z = 10\n",
        "  return x + y + z\n",
        "\n",
        "x = 1\n",
        "y = 1\n",
        "z = 3\n",
        "add_up(x, y)"
      ],
      "metadata": {
        "colab": {
          "base_uri": "https://localhost:8080/"
        },
        "id": "yCdVt2vHbQQg",
        "outputId": "81d391e3-8106-47aa-b294-74d685c1b5f0"
      },
      "execution_count": 10,
      "outputs": [
        {
          "output_type": "execute_result",
          "data": {
            "text/plain": [
              "12"
            ]
          },
          "metadata": {},
          "execution_count": 10
        }
      ]
    },
    {
      "cell_type": "markdown",
      "source": [
        "You can also call what is called a *method* from a class. You can think of a class like a type, similar to what we talked about earlier. Each class has a specific set of rules and methods which can be applied to *members* of that class.\n",
        "\n",
        "A string is one example of this. We've already seen string methods:"
      ],
      "metadata": {
        "id": "OyxHV-kGqOtD"
      }
    },
    {
      "cell_type": "code",
      "source": [
        "sharp = 'edged'\n",
        "# Replace is a _method_ that is applied to sharp. \n",
        "hot = sharp.replace('ed', 'ma')\n",
        "print('sharp =', sharp)\n",
        "print('hot =', hot)"
      ],
      "metadata": {
        "id": "8YN7tC0xqP17"
      },
      "execution_count": null,
      "outputs": []
    },
    {
      "cell_type": "code",
      "source": [
        "# These methods can be applied on any string, and returns a string itself.\n",
        "fixed_typo = \"hello gorld!\".replace('g', 'w')\n",
        "print(fixed_typo)\n",
        "print(type(fixed_typo))\n",
        "\n",
        "# you can chain them together\n",
        "'train'.replace('t', 'ing').replace('in', 'de')"
      ],
      "metadata": {
        "id": "8UG9Ape-qXGf"
      },
      "execution_count": null,
      "outputs": []
    },
    {
      "cell_type": "markdown",
      "source": [
        "Another example of a class is the `math` class. Here are some math methods:"
      ],
      "metadata": {
        "id": "c89EfRoJt-7v"
      }
    },
    {
      "cell_type": "code",
      "source": [
        "import math\n",
        "\n",
        "# Return the factorial of the input\n",
        "print(math.factorial(3))\n",
        "\n",
        "# return the largest integer less than or equal to x\n",
        "print(math.floor(2.9))\n",
        "\n",
        "# With one argument, return the natural logarithm of the input.\n",
        "print(math.log(12))\n",
        "\n",
        "# with two inputs, return the logarithm of the first input to the given base (log(x)/log(base))\n",
        "print(math.log(23, 2))"
      ],
      "metadata": {
        "id": "-rX_ip9NuIKa"
      },
      "execution_count": null,
      "outputs": []
    },
    {
      "cell_type": "markdown",
      "source": [
        "### What kinds of errors can you get with functions?"
      ],
      "metadata": {
        "id": "CPLYs4i1YvXI"
      }
    },
    {
      "cell_type": "markdown",
      "source": [
        "## Possible errors"
      ],
      "metadata": {
        "id": "5_gGOxyebxfZ"
      }
    },
    {
      "cell_type": "code",
      "source": [
        "# wrong number of arguments\n",
        "print(returnable_max(1))"
      ],
      "metadata": {
        "id": "OYZQRo9vb0Zt"
      },
      "execution_count": null,
      "outputs": []
    },
    {
      "cell_type": "code",
      "source": [
        "# Expecting a return from a function without a return statement\n",
        "max_value = custom_max(12, 13)\n",
        "print(max_value + 1)"
      ],
      "metadata": {
        "id": "Xx94Gpj_b5WJ"
      },
      "execution_count": null,
      "outputs": []
    },
    {
      "cell_type": "code",
      "source": [
        "# Mismatching types\n",
        "custom_max(1, \"hi!\")"
      ],
      "metadata": {
        "id": "SWjgY8pGcNoJ"
      },
      "execution_count": null,
      "outputs": []
    },
    {
      "cell_type": "markdown",
      "source": [
        "## Exercise:\n",
        "Take your code that calculates the manhattan distance, above, and put it into a function. This function should take in the starting street, the ending street, the starting avenue, and the ending avenue, and return the distance walked. Remember that an avenue is 274m, and a street is 80m\n",
        "\n",
        "**Example input**: `compute_manhattan_dist(42, 34, 7, 10)`\n",
        "\n",
        "**Expected output**: 1462"
      ],
      "metadata": {
        "id": "Wioio5YbbxZ-"
      }
    },
    {
      "cell_type": "code",
      "source": [
        "def compute_manhattan_dist(start_st, end_st, start_ave, end_ave):\n",
        "  return 0"
      ],
      "metadata": {
        "id": "BwHBGZMocg43"
      },
      "execution_count": null,
      "outputs": []
    },
    {
      "cell_type": "markdown",
      "source": [
        "# Lists"
      ],
      "metadata": {
        "id": "W_9VfZZdBRq_"
      }
    },
    {
      "cell_type": "markdown",
      "source": [
        "A list is an ordered set of values, where each value is identified by an index. The values that make up a list are called its elements. Lists are similar to strings, which are ordered sets of characters, except that the elements of a list can have any type."
      ],
      "metadata": {
        "id": "9Tpc9RQvXqJy"
      }
    },
    {
      "cell_type": "code",
      "source": [
        "[1, 2, 3, 4]\n",
        "[\"a\", \"b\", \"c\"]\n",
        "[1, \"cat\", [2, 3]]"
      ],
      "metadata": {
        "id": "2lsD4BdbXiZk"
      },
      "execution_count": null,
      "outputs": []
    },
    {
      "cell_type": "markdown",
      "source": [
        "To access values inside a list, we can use brackets"
      ],
      "metadata": {
        "id": "NPXchorEXzhn"
      }
    },
    {
      "cell_type": "code",
      "source": [
        "list_1 = [1, 10, 20]\n",
        "print(list_1[1])"
      ],
      "metadata": {
        "id": "YCIoW1haX2Sb"
      },
      "execution_count": null,
      "outputs": []
    },
    {
      "cell_type": "markdown",
      "source": [
        "You can even go backwards:"
      ],
      "metadata": {
        "id": "gtnXvE6-YYq4"
      }
    },
    {
      "cell_type": "code",
      "source": [
        "print(list_1[-1])"
      ],
      "metadata": {
        "id": "b9oMkQMSYboY"
      },
      "execution_count": null,
      "outputs": []
    },
    {
      "cell_type": "markdown",
      "source": [
        "You can update a value in a list the same way"
      ],
      "metadata": {
        "id": "7xFi7oeOX8Od"
      }
    },
    {
      "cell_type": "code",
      "source": [
        "list_1[0] = 100\n",
        "print(list_1)"
      ],
      "metadata": {
        "id": "7tB5yqGYX-iR"
      },
      "execution_count": null,
      "outputs": []
    },
    {
      "cell_type": "code",
      "source": [
        "list_1.append(1)\n",
        "print(list_1)"
      ],
      "metadata": {
        "id": "aVbWveCRZ1kP"
      },
      "execution_count": null,
      "outputs": []
    },
    {
      "cell_type": "markdown",
      "source": [
        "You can access a subsection of a list through a **slice**"
      ],
      "metadata": {
        "id": "8xArXRpDYENr"
      }
    },
    {
      "cell_type": "code",
      "source": [
        "list_2 = list_1[0:2]\n",
        "\n",
        "print(list_2)\n",
        "\n",
        "print(list_1[1:])"
      ],
      "metadata": {
        "id": "m6aWM2fWYKLQ"
      },
      "execution_count": null,
      "outputs": []
    },
    {
      "cell_type": "markdown",
      "source": [
        "You can have n dimensional lists"
      ],
      "metadata": {
        "id": "TdAN4z0tZEjj"
      }
    },
    {
      "cell_type": "code",
      "source": [
        "matrix = [[1, 2, 3],[5, 6, 7]]\n",
        "print(matrix[0])\n",
        "print(matrix[1][2])"
      ],
      "metadata": {
        "id": "ZIYiKl9YZHP1"
      },
      "execution_count": null,
      "outputs": []
    },
    {
      "cell_type": "code",
      "source": [
        "print(len(matrix))\n",
        "print(len(matrix[0]))"
      ],
      "metadata": {
        "id": "d--GmWMCeCoW"
      },
      "execution_count": null,
      "outputs": []
    },
    {
      "cell_type": "code",
      "source": [
        "empty_list = []\n",
        "\n",
        "if not empty_list:\n",
        "  print(\"This list is empty\")"
      ],
      "metadata": {
        "id": "EG9o_iViaCoG"
      },
      "execution_count": null,
      "outputs": []
    },
    {
      "cell_type": "markdown",
      "source": [
        "### What kind of errors can you get with lists?"
      ],
      "metadata": {
        "id": "IvOzGSnSYmd0"
      }
    },
    {
      "cell_type": "markdown",
      "source": [
        "## Possible errors"
      ],
      "metadata": {
        "id": "GPPV_RngY3Xx"
      }
    },
    {
      "cell_type": "code",
      "source": [
        "list_1[3]"
      ],
      "metadata": {
        "id": "v8oky9UkY4tD"
      },
      "execution_count": null,
      "outputs": []
    },
    {
      "cell_type": "code",
      "source": [
        "list_1[-4]"
      ],
      "metadata": {
        "id": "wRSAv6AkY64n"
      },
      "execution_count": null,
      "outputs": []
    },
    {
      "cell_type": "code",
      "source": [
        "list_1[6] = 2\n"
      ],
      "metadata": {
        "id": "srA7Ya9iZ8aW"
      },
      "execution_count": null,
      "outputs": []
    },
    {
      "cell_type": "markdown",
      "source": [
        "# Loops"
      ],
      "metadata": {
        "id": "jTDu3gVJAw0r"
      }
    },
    {
      "cell_type": "markdown",
      "source": [
        "Repeated execution of a set of statements is called iteration. Because iteration is so common, Python provides several language features to make it easier. The first feature we are going to look at is the while statement."
      ],
      "metadata": {
        "id": "O3ZWKMnycdxZ"
      }
    },
    {
      "cell_type": "code",
      "source": [
        "x = 0\n",
        "while x < 5:\n",
        "  print(x)\n",
        "  x = x + 1"
      ],
      "metadata": {
        "id": "xMXnEMQEdjTZ"
      },
      "execution_count": null,
      "outputs": []
    },
    {
      "cell_type": "code",
      "source": [
        "for item in [1, 2, 3, 4]:\n",
        "  print(item)"
      ],
      "metadata": {
        "id": "kPN6TNzFBQ1X"
      },
      "execution_count": null,
      "outputs": []
    },
    {
      "cell_type": "markdown",
      "source": [
        "# Exercise: Lists"
      ],
      "metadata": {
        "id": "ojtOV7LWBkrY"
      }
    },
    {
      "cell_type": "markdown",
      "source": [
        "Given a list, output another list with each value squared.\n",
        "\n",
        "numbers = [1, 2, 3, 4, 5, 6, 7]\n",
        "\n",
        "Expected output:\n",
        "[1, 4, 9, 16, 25, 36, 49]"
      ],
      "metadata": {
        "id": "mYYqJjv1CS5H"
      }
    },
    {
      "cell_type": "code",
      "source": [
        "numbers = [1, 2, 3, 4, 5, 6, 7]"
      ],
      "metadata": {
        "id": "2IIspiP_u_PK"
      },
      "execution_count": null,
      "outputs": []
    },
    {
      "cell_type": "markdown",
      "source": [
        "## Final Exercise \n",
        "Write a function which accepts a list of starting and ending streets, and a list of starting and ending avenues. For each set of start and end points, call your manhattan distance function from before and return a list of the distance walked for each set of starting and ending points.\n",
        "\n",
        "**Example input**: \n",
        "streets = `[[1, 22], [4, 11], [23, 29]]`\n",
        "\n",
        "avenues = `[[2, 9], [33, 2], [30, 41]]`\n",
        "\n",
        "So the first set of points, you would be walking from 1st street, 2nd avenue, to 22nd street, 9th avenue. \n",
        "\n",
        "**Expected output:** `[3598, 9054, 3494]`\n"
      ],
      "metadata": {
        "id": "HE9ZaaoWcpqO"
      }
    },
    {
      "cell_type": "code",
      "source": [
        "def compute_multiple_distances(streets, avenues):\n",
        "  return []"
      ],
      "metadata": {
        "id": "P8Si8h8yd2nx"
      },
      "execution_count": null,
      "outputs": []
    },
    {
      "cell_type": "markdown",
      "source": [
        "### Answer"
      ],
      "metadata": {
        "id": "k_TFIc0ld1VT"
      }
    },
    {
      "cell_type": "code",
      "source": [
        "def compute_multiple_distances(streets, avenues):\n",
        "  index = 0\n",
        "  results = []\n",
        "  while index < len(streets):\n",
        "    street_pair = streets[index]\n",
        "    ave_pair = avenues[index]\n",
        "    print(street_pair)\n",
        "    dist = compute_manhattan_dist(street_pair[0], street_pair[1], ave_pair[0], ave_pair[1])\n",
        "    results.append(dist)\n",
        "    index = index + 1\n",
        "  return results\n",
        "\n",
        "compute_multiple_distances([[1, 2]], [[1,1]])"
      ],
      "metadata": {
        "id": "WHU5mJHQd3Jf"
      },
      "execution_count": null,
      "outputs": []
    },
    {
      "cell_type": "markdown",
      "source": [
        "# Application: Applying numpy and pandas"
      ],
      "metadata": {
        "id": "7xp5IEg7CdSz"
      }
    },
    {
      "cell_type": "markdown",
      "source": [
        "Numpy and pandas are two python packages commonly used for data science applications. Numpy is a package which greatly improves on the existing math and data storage capablities of Python. Pandas is a package for creating and manipulating excel-like tables for managing data. "
      ],
      "metadata": {
        "id": "hSfLh1hWx0od"
      }
    },
    {
      "cell_type": "code",
      "source": [
        "import numpy as np \n",
        "\n",
        "np.array([0.125, 4.75, -1.3])"
      ],
      "metadata": {
        "id": "D1co98ALyMOl"
      },
      "execution_count": null,
      "outputs": []
    },
    {
      "cell_type": "code",
      "source": [
        "np.shape(np.array([[1.1, 2.2], [22, 0.11]]))"
      ],
      "metadata": {
        "id": "Qf2GWNPRyR5o"
      },
      "execution_count": null,
      "outputs": []
    },
    {
      "cell_type": "markdown",
      "source": [
        "**Arrays Vs Lists**\n",
        "Arrays are a lot more efficient than lists. In addition, you can apply many useful numpy functions to the numpy arrays. In general, if it's something simple, a list is fine, but if you're manipulating real data, then a numpy array is worth using. However, it is very inefficient to add onto the end of an array - it's preferable to create the array at the size you want. "
      ],
      "metadata": {
        "id": "E0yxQQBWygb9"
      }
    },
    {
      "cell_type": "code",
      "source": [
        "numpy_array = np.zeros((2, 4, 3))\n",
        "print(np.shape(numpy_array))\n",
        "print(numpy_array)"
      ],
      "metadata": {
        "id": "jtUydQ81zF5k"
      },
      "execution_count": null,
      "outputs": []
    },
    {
      "cell_type": "code",
      "source": [
        "numpy_array[0][2][0] = 4\n",
        "print(numpy_array)\n"
      ],
      "metadata": {
        "id": "9VEhA6nHzZhX"
      },
      "execution_count": null,
      "outputs": []
    },
    {
      "cell_type": "code",
      "source": [
        "numpy_array[1][3] = np.array([2.2, 2.3, 2.4])\n",
        "print(numpy_array)"
      ],
      "metadata": {
        "id": "EGtVARPOzqWX"
      },
      "execution_count": null,
      "outputs": []
    },
    {
      "cell_type": "markdown",
      "source": [
        "Exercise:\n",
        "Make an array containing the numbers 0, 1, -1, $\\pi$, and $e$, in that order.  Name it `interesting_numbers`.  "
      ],
      "metadata": {
        "id": "VpSrA5Bqz2nC"
      }
    },
    {
      "cell_type": "markdown",
      "source": [
        "np.arange(start, stop, space) produces an array with all the numbers starting at start and counting up by space, stopping before stop is reached."
      ],
      "metadata": {
        "id": "yzcLhfPsz-JZ"
      }
    },
    {
      "cell_type": "code",
      "source": [
        "np.arange(1, 10, 2)"
      ],
      "metadata": {
        "id": "GVdfzRDs0AJl"
      },
      "execution_count": null,
      "outputs": []
    },
    {
      "cell_type": "markdown",
      "source": [
        "Exercise:\n",
        "\n",
        "NOAA (the US National Oceanic and Atmospheric Administration) operates weather stations that measure surface temperatures at different sites around the United States. The hourly readings are publicly available.\n",
        "\n",
        "Suppose we download all the hourly data from the Oakland, California site for the month of December 2015. To analyze the data, we want to know when each reading was taken, but we find that the data don't include the timestamps of the readings (the time at which each one was taken).\n",
        "\n",
        "However, we know the first reading was taken at the first instant of December 2015 (midnight on December 1st) and each subsequent reading was taken exactly 1 hour after the last.\n",
        "\n",
        "Create an array of the time, in seconds, since the start of the month at which each hourly reading was taken. Name it collection_times.\n",
        "\n",
        "Hint: There were 31 days in December, which is equivalent to 31×24\n",
        "hours or 31×24×60×60 seconds. So your array should have 31×24\n",
        "\n",
        "elements in it.\n",
        "\n",
        "Hint 2: The len function works on arrays, too. If your collection_times isn't passing the tests, check its length and make sure it has 31×24\n",
        "elements."
      ],
      "metadata": {
        "id": "qwKss4p8zT3_"
      }
    },
    {
      "cell_type": "markdown",
      "source": [
        "### Pandas\n",
        "\n",
        "Similar to Numpy arrays, pandas has a data structure as well.\n",
        "\n",
        "The equivalent to an array in pandas is called a **series**. A series is basically a one dimensional array.\n",
        "\n",
        "It also has a more complex data structure, called a **dataframe**. This is like a 2-dimensional array. It's easiest to think of this as like an excel spreadsheet. "
      ],
      "metadata": {
        "id": "jFDiBYr-0UVP"
      }
    },
    {
      "cell_type": "code",
      "source": [
        "import pandas as pd \n",
        "\n",
        "first_series = pd.Series([1, 2, 3, 4])\n",
        "print(first_series)\n",
        "\n",
        "second_series = pd.Series(np.array([2, 3, 4, 5]))\n",
        "print(second_series)"
      ],
      "metadata": {
        "id": "kAv8HkbK1MEM"
      },
      "execution_count": null,
      "outputs": []
    },
    {
      "cell_type": "code",
      "source": [
        "dates = pd.date_range(\"20130101\", periods=6)\n",
        "\n",
        "print(\"dates: \", dates)"
      ],
      "metadata": {
        "id": "geajcv7N1p9N"
      },
      "execution_count": null,
      "outputs": []
    },
    {
      "cell_type": "code",
      "source": [
        "# Create a dataframe with an index of the given dates, and the columns A-D. This is filled with a randomly generated array of size (6, 4)\n",
        "df = pd.DataFrame(np.random.randn(6, 4), index=dates, columns=list(\"ABCD\"))\n",
        "df"
      ],
      "metadata": {
        "id": "Ol8XAKpy18ia"
      },
      "execution_count": null,
      "outputs": []
    },
    {
      "cell_type": "markdown",
      "source": [
        "# Sources"
      ],
      "metadata": {
        "id": "APgs2sU9APLE"
      }
    },
    {
      "cell_type": "markdown",
      "source": [
        "https://pandas.pydata.org/pandas-docs/stable/user_guide/10min.html\n",
        "\n",
        "http://openbookproject.net/thinkcs/python/english2e/index.html\n",
        "\n"
      ],
      "metadata": {
        "id": "YCj0wRvI1PV2"
      }
    }
  ]
}