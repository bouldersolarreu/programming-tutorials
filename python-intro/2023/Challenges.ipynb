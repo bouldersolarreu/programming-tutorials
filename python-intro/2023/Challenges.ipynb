{
  "nbformat": 4,
  "nbformat_minor": 0,
  "metadata": {
    "colab": {
      "provenance": [],
      "collapsed_sections": [
        "l_6ZCTJimcEh",
        "ZRoHrRCQ6G5_",
        "Fpo9tcDf6cEa",
        "ffmPQ7Ld5q22",
        "QONJiFvz0fOc",
        "yTgoUFFo63_a",
        "oAak-8WV3uwz",
        "GRCmOv4_Sy6U",
        "YgTfO9_i3x7l",
        "twgGKwS12D8O",
        "qmoLSkRD2aTL",
        "GTtBZTA48ZaK",
        "e0dyAcLi2e2H"
      ],
      "toc_visible": true
    },
    "kernelspec": {
      "name": "python3",
      "display_name": "Python 3"
    },
    "language_info": {
      "name": "python"
    }
  },
  "cells": [
    {
      "cell_type": "markdown",
      "source": [
        "# IMPORTANT NOTE:\n",
        "## **Before looking at the rest of the challenges, go through and collapse all the sections (click the arrow next to the header) or you will be spoiled for the hints and solutions!**\n",
        "\n",
        "I encourage you to try and search for your questions online before looking at the hints! Only use the hints if you are really stuck. The solutions for each question is at the bottom. Make sure you test your answers with multiple inputs to ensure it works properly!"
      ],
      "metadata": {
        "id": "2XgyfCVX124k"
      }
    },
    {
      "cell_type": "markdown",
      "source": [
        "# First challenge - If statements, variables, and arithmatic "
      ],
      "metadata": {
        "id": "l_6ZCTJimcEh"
      }
    },
    {
      "cell_type": "markdown",
      "source": [
        "Write a program to accept a variable named \"starting value\", add 3, divide by 4, multiply by 10, and cube it. If that value is greater than 100, print \"This value is greater than 100\", and if that number is even, print \"This number is even.\"\n",
        "\n",
        "$$ end\\_value = (\\frac {start\\_value + 3}{4} × 10)^3 $$\n"
      ],
      "metadata": {
        "id": "RTZkbHns110h"
      }
    },
    {
      "cell_type": "code",
      "source": [
        "start_value = 10\n",
        "# your code here"
      ],
      "metadata": {
        "id": "3zHbgg3V5mEh"
      },
      "execution_count": 6,
      "outputs": []
    },
    {
      "cell_type": "markdown",
      "source": [
        "## Hint 1"
      ],
      "metadata": {
        "id": "ZRoHrRCQ6G5_"
      }
    },
    {
      "cell_type": "markdown",
      "source": [
        "You can assign a new variable using the equals sign."
      ],
      "metadata": {
        "id": "8f1f1lK46Ij0"
      }
    },
    {
      "cell_type": "code",
      "source": [
        "ending_value = starting_value + 10\n",
        "print(ending_value)"
      ],
      "metadata": {
        "colab": {
          "base_uri": "https://localhost:8080/"
        },
        "id": "ycA9hQTs6WdU",
        "outputId": "eb2ca7cc-9a7c-4e63-f7bf-17ac4845c9a4"
      },
      "execution_count": 13,
      "outputs": [
        {
          "output_type": "stream",
          "name": "stdout",
          "text": [
            "20\n"
          ]
        }
      ]
    },
    {
      "cell_type": "markdown",
      "source": [
        "## Hint 2"
      ],
      "metadata": {
        "id": "Fpo9tcDf6cEa"
      }
    },
    {
      "cell_type": "markdown",
      "source": [
        "You can compare numbers using the comparision operators, as follows:"
      ],
      "metadata": {
        "id": "entucAbg6kHp"
      }
    },
    {
      "cell_type": "code",
      "source": [
        "x = 3\n",
        "\n",
        "if(x <= 10):\n",
        "  print(\"x is less than or equal to 10\")\n",
        "if(x > -10 and x < 10):\n",
        "  print(\"X is greater than -10 and less than 10\")\n",
        "if (x == 10):\n",
        "  print(\"X is equal to 10\")\n",
        "if (x != 10):\n",
        "  print(\"X is not equal to 10\")"
      ],
      "metadata": {
        "colab": {
          "base_uri": "https://localhost:8080/"
        },
        "id": "so-ypF1n6eXX",
        "outputId": "bec0a2e5-39a7-4a1c-f677-0c779f382307"
      },
      "execution_count": 14,
      "outputs": [
        {
          "output_type": "stream",
          "name": "stdout",
          "text": [
            "x is less than or equal to 10\n",
            "X is greater than -10 and less than 10\n",
            "X is not equal to 10\n"
          ]
        }
      ]
    },
    {
      "cell_type": "markdown",
      "source": [
        "## Hint 3\n"
      ],
      "metadata": {
        "id": "ffmPQ7Ld5q22"
      }
    },
    {
      "cell_type": "markdown",
      "source": [
        "You can determine if a number is even using modular arithmatic. This returns the remainder of the division. "
      ],
      "metadata": {
        "id": "aqy2vsLI5se0"
      }
    },
    {
      "cell_type": "code",
      "source": [
        "10 % 3"
      ],
      "metadata": {
        "colab": {
          "base_uri": "https://localhost:8080/"
        },
        "id": "AldlT44v5zvZ",
        "outputId": "d0d09d53-8069-4b83-da6e-a63b5efe19b2"
      },
      "execution_count": 10,
      "outputs": [
        {
          "output_type": "execute_result",
          "data": {
            "text/plain": [
              "1"
            ]
          },
          "metadata": {},
          "execution_count": 10
        }
      ]
    },
    {
      "cell_type": "markdown",
      "source": [
        "# Second challenge - if statements and loops"
      ],
      "metadata": {
        "id": "QONJiFvz0fOc"
      }
    },
    {
      "cell_type": "markdown",
      "source": [
        "Write a program that prints the numbers from 1 to 30 such that:\n",
        "\n",
        "- If the number is a multiple of 3, you need to print \"Fizz\" instead of that number.\n",
        "- If the number is a multiple of 5, you need to print \"Buzz\" instead of that number.\n",
        "- If the number is a multiple of both 3 and 5, you need to print \"FizzBuzz\" instead of that number.\n",
        "\n",
        "There are hints included if you need tips. \n"
      ],
      "metadata": {
        "id": "ZyfMRg3d0iYq"
      }
    },
    {
      "cell_type": "code",
      "source": [],
      "metadata": {
        "id": "8SU1LBxb1Dft"
      },
      "execution_count": null,
      "outputs": []
    },
    {
      "cell_type": "markdown",
      "source": [
        "## Hint 1\n"
      ],
      "metadata": {
        "id": "tW_2EE6x01V1"
      }
    },
    {
      "cell_type": "markdown",
      "source": [
        "You can use modular arithmatic to determine the remainder of a division. In python, this can be applied with the % symbol. "
      ],
      "metadata": {
        "id": "tIQqJYTf1E3B"
      }
    },
    {
      "cell_type": "code",
      "source": [
        "print(11%3)\n",
        "print(16%4)"
      ],
      "metadata": {
        "colab": {
          "base_uri": "https://localhost:8080/"
        },
        "id": "D0ql0Tvu04uC",
        "outputId": "4f39b7df-6402-4842-8b17-3e2c2f50eea3"
      },
      "execution_count": 3,
      "outputs": [
        {
          "output_type": "stream",
          "name": "stdout",
          "text": [
            "2\n",
            "0\n"
          ]
        }
      ]
    },
    {
      "cell_type": "markdown",
      "source": [
        "## Hint 2"
      ],
      "metadata": {
        "id": "BqKCtvpL1oB8"
      }
    },
    {
      "cell_type": "markdown",
      "source": [
        "You can use the following to loop through a range of numbers"
      ],
      "metadata": {
        "id": "wRUfhW4b1rAG"
      }
    },
    {
      "cell_type": "code",
      "source": [
        "for i in range(1, 5):\n",
        "  print(i)"
      ],
      "metadata": {
        "colab": {
          "base_uri": "https://localhost:8080/"
        },
        "id": "D1a1Yd7J1dbH",
        "outputId": "16fb0955-fbb1-481c-90b1-a4e5f50e184a"
      },
      "execution_count": 4,
      "outputs": [
        {
          "output_type": "stream",
          "name": "stdout",
          "text": [
            "1\n",
            "2\n",
            "3\n",
            "4\n"
          ]
        }
      ]
    },
    {
      "cell_type": "markdown",
      "source": [
        "# Third challenge - fixing errors"
      ],
      "metadata": {
        "id": "yTgoUFFo63_a"
      }
    },
    {
      "cell_type": "markdown",
      "source": [
        "Fix the errors in the following piece of code. It contains both syntax errors, which will throw an error, and logic errors, which will not."
      ],
      "metadata": {
        "id": "-fvAzGTT664J"
      }
    },
    {
      "cell_type": "markdown",
      "source": [
        "This one is hard! I'd recommend reviewing the wikipedia page for fibonnoci sequences, and checking with multiple values to make sure you have the correct results."
      ],
      "metadata": {
        "id": "d1ySaZng8r9a"
      }
    },
    {
      "cell_type": "code",
      "source": [
        "# This code prints the fibonnoci sequence from 0 up to a given value.\n",
        "def fib(n):\n",
        "  two_back == 0\n",
        "  one_back == 1\n",
        "  while one_back <= n\n",
        "    print(two_back + one_back\n",
        "    two_back = one_back \n",
        "    one_back = two_back + one_back\n",
        "\n",
        "fib(21)"
      ],
      "metadata": {
        "colab": {
          "base_uri": "https://localhost:8080/",
          "height": 134
        },
        "id": "VG1LJ8y669tv",
        "outputId": "7ed344b3-1246-4adb-85a6-1272dd1a1189"
      },
      "execution_count": 28,
      "outputs": [
        {
          "output_type": "error",
          "ename": "SyntaxError",
          "evalue": "ignored",
          "traceback": [
            "\u001b[0;36m  File \u001b[0;32m\"<ipython-input-28-437452245864>\"\u001b[0;36m, line \u001b[0;32m5\u001b[0m\n\u001b[0;31m    while one_back <= n\u001b[0m\n\u001b[0m                       ^\u001b[0m\n\u001b[0;31mSyntaxError\u001b[0m\u001b[0;31m:\u001b[0m expected ':'\n"
          ]
        }
      ]
    },
    {
      "cell_type": "markdown",
      "source": [
        "# Final challenge"
      ],
      "metadata": {
        "id": "oAak-8WV3uwz"
      }
    },
    {
      "cell_type": "markdown",
      "source": [
        "Write a function which accepts an integer and returns a list of its prime factors. The list of prime factors of a number are all numbers which evenly divide that number.\n",
        "\n",
        "**Example input:** 10\n",
        "\n",
        "**Expected output:** [1, 2, 5, 10]\n"
      ],
      "metadata": {
        "id": "cQ6bS5X93wwN"
      }
    },
    {
      "cell_type": "code",
      "source": [],
      "metadata": {
        "id": "Ig0zrwUB4gj_"
      },
      "execution_count": null,
      "outputs": []
    },
    {
      "cell_type": "markdown",
      "source": [
        "## Hint 1"
      ],
      "metadata": {
        "id": "GRCmOv4_Sy6U"
      }
    },
    {
      "cell_type": "markdown",
      "source": [
        "You can define a function using the following syntax:\n"
      ],
      "metadata": {
        "id": "COOi8U3PS07J"
      }
    },
    {
      "cell_type": "code",
      "source": [
        "def this_function_returns_10():\n",
        "  return 10\n",
        "\n",
        "this_function_returns_10()"
      ],
      "metadata": {
        "colab": {
          "base_uri": "https://localhost:8080/"
        },
        "id": "5Wn4JZe3T005",
        "outputId": "f1782964-4288-44d2-c3a5-cf9babb2a147"
      },
      "execution_count": 7,
      "outputs": [
        {
          "output_type": "execute_result",
          "data": {
            "text/plain": [
              "10"
            ]
          },
          "metadata": {},
          "execution_count": 7
        }
      ]
    },
    {
      "cell_type": "markdown",
      "source": [
        "# Bonus questions"
      ],
      "metadata": {
        "id": "YgTfO9_i3x7l"
      }
    },
    {
      "cell_type": "markdown",
      "source": [
        "If you have successfully completed the previous questions, great work! You can try your hand at some of the challenges from this page.\n",
        "\n",
        "https://www.codecademy.com/resources/blog/python-code-challenges-for-beginners/"
      ],
      "metadata": {
        "id": "gUGarnIe30R7"
      }
    },
    {
      "cell_type": "markdown",
      "source": [
        "# Solutions"
      ],
      "metadata": {
        "id": "twgGKwS12D8O"
      }
    },
    {
      "cell_type": "markdown",
      "source": [
        "## Solution 1"
      ],
      "metadata": {
        "id": "qmoLSkRD2aTL"
      }
    },
    {
      "cell_type": "code",
      "source": [
        "starting_value = 10\n",
        "end_value = ((starting_value + 3) / 4 * 10) ** 3\n",
        "\n",
        "print(end_value)\n",
        "if end_value > 100:\n",
        "  print(\"This value is greater than 100\")\n",
        "\n",
        "if end_value % 2 == 0:\n",
        "  print(\"This number is even\")"
      ],
      "metadata": {
        "colab": {
          "base_uri": "https://localhost:8080/"
        },
        "id": "wtbEdcHaSm88",
        "outputId": "5c2b8480-ad0d-476d-9572-6e56152662f1"
      },
      "execution_count": 5,
      "outputs": [
        {
          "output_type": "stream",
          "name": "stdout",
          "text": [
            "34328.125\n",
            "This value is greater than 100\n"
          ]
        }
      ]
    },
    {
      "cell_type": "markdown",
      "source": [
        "## Solution 2"
      ],
      "metadata": {
        "id": "Ur4TJJPX2GQd"
      }
    },
    {
      "cell_type": "code",
      "source": [
        "for i in range(1, 31):\n",
        "  if (i % 15 == 0):\n",
        "    print(\"FizzBuzz\")\n",
        "  elif (i%3 == 0):\n",
        "    print(\"Fizz\")\n",
        "  elif (i%5 == 0):\n",
        "    print(\"Buzz\")\n",
        "  else:\n",
        "    print(i)\n",
        "    \n",
        "# Bonus points if you solved it in fewer lines!"
      ],
      "metadata": {
        "colab": {
          "base_uri": "https://localhost:8080/"
        },
        "id": "h29-hGor2jL8",
        "outputId": "0fca2cc3-7896-4a85-ec66-a43785b528cd"
      },
      "execution_count": 5,
      "outputs": [
        {
          "output_type": "stream",
          "name": "stdout",
          "text": [
            "1\n",
            "2\n",
            "Fizz\n",
            "4\n",
            "Buzz\n",
            "Fizz\n",
            "7\n",
            "8\n",
            "Fizz\n",
            "Buzz\n",
            "11\n",
            "Fizz\n",
            "13\n",
            "14\n",
            "FizzBuzz\n",
            "16\n",
            "17\n",
            "Fizz\n",
            "19\n",
            "Buzz\n",
            "Fizz\n",
            "22\n",
            "23\n",
            "Fizz\n",
            "Buzz\n",
            "26\n",
            "Fizz\n",
            "28\n",
            "29\n",
            "FizzBuzz\n"
          ]
        }
      ]
    },
    {
      "cell_type": "markdown",
      "source": [
        "## Solution 3"
      ],
      "metadata": {
        "id": "GTtBZTA48ZaK"
      }
    },
    {
      "cell_type": "code",
      "source": [
        "# This code prints the fibonnoci sequence from 0 up to a given value.\n",
        "def fib(n):\n",
        "  two_back = 0\n",
        "  one_back = 1\n",
        "  print(two_back)\n",
        "  print(one_back)\n",
        "  while one_back < n:\n",
        "    now = two_back + one_back\n",
        "    print(now)\n",
        "    two_back = one_back \n",
        "    one_back = now\n",
        "\n",
        "fib(21)"
      ],
      "metadata": {
        "colab": {
          "base_uri": "https://localhost:8080/"
        },
        "id": "vjWJ2A1m8bz-",
        "outputId": "ca9dafdd-ec20-4d66-f80a-2cf7a18ce6a3"
      },
      "execution_count": 24,
      "outputs": [
        {
          "output_type": "stream",
          "name": "stdout",
          "text": [
            "0\n",
            "1\n",
            "1\n",
            "2\n",
            "3\n",
            "5\n",
            "8\n",
            "13\n",
            "21\n"
          ]
        }
      ]
    },
    {
      "cell_type": "markdown",
      "source": [
        "## Solution 4\n"
      ],
      "metadata": {
        "id": "e0dyAcLi2e2H"
      }
    },
    {
      "cell_type": "code",
      "source": [
        "def prime_values(x):\n",
        "  prime_values = []\n",
        "  for i in range(1, x+1):\n",
        "    if (x % i == 0):\n",
        "      prime_values.append(i)\n",
        "  return prime_values \n",
        "\n",
        "prime_values(10)"
      ],
      "metadata": {
        "colab": {
          "base_uri": "https://localhost:8080/"
        },
        "id": "xaQl9NSu2FDR",
        "outputId": "27fdd260-b56f-439a-a7be-7debdb02505f"
      },
      "execution_count": 9,
      "outputs": [
        {
          "output_type": "execute_result",
          "data": {
            "text/plain": [
              "[1, 2, 5, 10]"
            ]
          },
          "metadata": {},
          "execution_count": 9
        }
      ]
    },
    {
      "cell_type": "code",
      "source": [],
      "metadata": {
        "id": "1LOCu-YJ46jq"
      },
      "execution_count": null,
      "outputs": []
    }
  ]
}