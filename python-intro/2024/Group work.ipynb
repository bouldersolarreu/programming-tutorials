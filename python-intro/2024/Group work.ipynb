{
 "cells": [
  {
   "cell_type": "markdown",
   "id": "fe5c1baa-8cca-4539-b62f-be17f1f2c30e",
   "metadata": {},
   "source": [
    "# Group work \n",
    "Please work in groups of 2-4 to complete the following challenges. The instructors will be walking around and offering help. Please also use different tools to try and answer questions, such as the official numpy or pandas documentation, google search, or even chatGPT. Part of learning is learning how to use different tools!"
   ]
  },
  {
   "cell_type": "code",
   "execution_count": null,
   "id": "80ccca3c-ba8c-42ea-b35a-dc377c6f8097",
   "metadata": {},
   "outputs": [],
   "source": []
  }
 ],
 "metadata": {
  "kernelspec": {
   "display_name": "Python 3 (ipykernel)",
   "language": "python",
   "name": "python3"
  },
  "language_info": {
   "codemirror_mode": {
    "name": "ipython",
    "version": 3
   },
   "file_extension": ".py",
   "mimetype": "text/x-python",
   "name": "python",
   "nbconvert_exporter": "python",
   "pygments_lexer": "ipython3",
   "version": "3.11.7"
  }
 },
 "nbformat": 4,
 "nbformat_minor": 5
}
