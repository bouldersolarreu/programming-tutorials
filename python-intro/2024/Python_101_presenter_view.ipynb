{
 "cells": [
  {
   "cell_type": "markdown",
   "metadata": {},
   "source": [
    "# Programming and Python (*a 2 minute review*)\n",
    "\n",
    "Programming is all about productive laziness - we're convincing a computer to do our work for us, because it's too complex, too repetitive, and too tedious for us to do ourselves! Case in point, when I was learning statistics, I had a teacher who wanted us to explore probability distributions using the game \"Monopoly\", by rolling two, 6-sided dice and taking the sum... 400 times! It took more than an hour just to roll them and note them down on a piece of paper, and I wouldn't exactly say it was fun. Then we were asked to plot the frequency of different rolls with the first 50, 100, and 400 rolls. Tallying up each quantity then took another hour of homework time. \n",
    "\n",
    "And as pointless an exercise as this might seem to be, we use random number 'rolls of the dice' to calculate things all the time in the sciences - you often *do* need to make these repetitive random choices. So, if I wanted to make do a similar experiment now, using the power of laziness, I'd write a couple lines of code and let the computer handle all the randomness and tallying. And I could roll the dice a million times in a second or two."
   ]
  },
  {
   "cell_type": "code",
   "execution_count": null,
   "metadata": {},
   "outputs": [],
   "source": [
    "import numpy as np\n",
    "import matplotlib.pyplot as plt\n",
    "\n",
    "# How many times do you want to roll the dice?\n",
    "num_rolls = int(input(\"Enter the number of rolls as an integer...\"))\n",
    "\n",
    "# This is the only line that *actually* simulates the dice rolls!\n",
    "die_rolls = [np.random.randint(1, 7) + np.random.randint(1, 7) for _ in range(num_rolls)]\n",
    "\n",
    "# A quick way to make the plot of frequencies of each roll (A histogram)\n",
    "plt.hist(die_rolls, bins=np.arange(14) + 0.5, rwidth=0.8, color='C1')\n",
    "plt.xlabel(\"Rolls of two 6-sided dice\")\n",
    "plt.ylabel(\"Number of rolls with value\")\n",
    "plt.title(f\"Histogram of {num_rolls} rolls of two 6-sided dice\")"
   ]
  },
  {
   "cell_type": "markdown",
   "metadata": {},
   "source": [
    "But our computers aren't very smart so *for now*, we still need to simplify down what we want into direct instructions for what the computer should do. Even as LLMs get really good at interpreting our requests, it's still vital to be able to clarify to the computer (and ourselves) *exactly* what we want to do.\n",
    "\n",
    "Python is just one of many ways to order your computer around. It's particularly popular in the physical sciences because it's \n",
    "1. It's *relatively* easy to learn/read/write\n",
    "2. It's extremely powerful and general purpose - you can build websites in Python, you can calculate spacecraft trajectories in Python, and you can build enterprise software like \"Dropbox\" in Python.\n",
    "3. It has a *huge* community of developers invested in writing and sharing reusable code. I didn't need to write a random number generator to roll those dice because there's already a standardized, efficient implementation of that... and basically any general purpose code you might need."
   ]
  },
  {
   "cell_type": "markdown",
   "metadata": {
    "id": "ngrnd0KudEop"
   },
   "source": [
    "Okay! Let's start going through the building blocks of Python code!\n",
    "\n",
    "*Note: Most of this tutorial is cobbled together from parts of \"How to think like a computer scientist: Learning with Python.\" This is a great resource that goes a lot more in depth than I will.*"
   ]
  },
  {
   "cell_type": "markdown",
   "metadata": {
    "id": "FGts7vqfaEaS"
   },
   "source": [
    "# First Step: Hello, World!"
   ]
  },
  {
   "cell_type": "code",
   "execution_count": null,
   "metadata": {
    "id": "yHCVTTD0W0Bn"
   },
   "outputs": [],
   "source": [
    "print(\"Hello, World!\")"
   ]
  },
  {
   "cell_type": "markdown",
   "metadata": {},
   "source": [
    "Whatever you have at the last line of your cell in a Jupyter Notebook will appear, as if you \"print\"-ed it, but to manually print as many times as you want, use the built-in print function:"
   ]
  },
  {
   "cell_type": "code",
   "execution_count": null,
   "metadata": {},
   "outputs": [],
   "source": [
    "# This won't show at the end of the cell:\n",
    "\"Hello, World!\"\n",
    "\n",
    "# But this will, because we use the print function:\n",
    "print(\"Hello, Colorado!\")\n",
    "\n",
    "# and this will, because it's the last code line in the cell:\n",
    "\"HELLO, WORLD!\""
   ]
  },
  {
   "cell_type": "markdown",
   "metadata": {
    "id": "Gdy4Ws97aSb8"
   },
   "source": [
    "# Basic math\n"
   ]
  },
  {
   "cell_type": "code",
   "execution_count": null,
   "metadata": {
    "id": "TKTtwEeHaV-v"
   },
   "outputs": [],
   "source": [
    "1 + 2"
   ]
  },
  {
   "cell_type": "markdown",
   "metadata": {
    "id": "LVQZOqVeafWW"
   },
   "source": [
    "Jupyter will only print the output of the last line in each cell."
   ]
  },
  {
   "cell_type": "code",
   "execution_count": null,
   "metadata": {
    "id": "W4wGj7_FakEe"
   },
   "outputs": [],
   "source": [
    "1 + 2\n",
    "6 / 3"
   ]
  },
  {
   "cell_type": "markdown",
   "metadata": {
    "id": "kNrh1g-FadxZ"
   },
   "source": [
    "## 1"
   ]
  },
  {
   "cell_type": "markdown",
   "metadata": {
    "id": "ZMHIBzxZ93AS"
   },
   "source": [
    "$$6 \\times 5 - 6 \\times 3^2 \\times \\frac{2^3}{4} \\times 7 = -726.0$$"
   ]
  },
  {
   "cell_type": "markdown",
   "metadata": {
    "id": "wmT91apTaT65",
    "jp-MarkdownHeadingCollapsed": true
   },
   "source": [
    "### answer"
   ]
  },
  {
   "cell_type": "code",
   "execution_count": null,
   "metadata": {
    "id": "7z6y01bV9v9e"
   },
   "outputs": [],
   "source": [
    "6*5-6*3**2*2**3/4*7"
   ]
  },
  {
   "cell_type": "markdown",
   "metadata": {
    "id": "VTJPtdDR910K"
   },
   "source": [
    "## 2\n",
    "$$(6 \\times 5 - (6 \\times 3))^2 \\times (\\frac{(2^3)}{4} \\times 7)$$\n"
   ]
  },
  {
   "cell_type": "markdown",
   "metadata": {
    "id": "bHJLYdE4ajJa",
    "jp-MarkdownHeadingCollapsed": true
   },
   "source": [
    "### answer"
   ]
  },
  {
   "cell_type": "code",
   "execution_count": null,
   "metadata": {
    "id": "hgNyfTdk9yhw"
   },
   "outputs": [],
   "source": [
    "(6*5-(6*3))**2*((2**3)/4*7)"
   ]
  },
  {
   "cell_type": "markdown",
   "metadata": {
    "id": "zRdz-prUZL0J"
   },
   "source": [
    "Much like order of operations, Python has rules for evaluating expressions. As we saw, for math, this means following pemdas."
   ]
  },
  {
   "cell_type": "code",
   "execution_count": null,
   "metadata": {
    "id": "17vK7S82ZQnp"
   },
   "outputs": [],
   "source": [
    "# First, evaluate what's inside the parentheses. Then, run `abs` on that value.\n",
    "abs(1.11 - 12.3)"
   ]
  },
  {
   "cell_type": "markdown",
   "metadata": {
    "id": "T9NwpGwcaqNy"
   },
   "source": [
    "# Variables and Types"
   ]
  },
  {
   "cell_type": "markdown",
   "metadata": {},
   "source": [
    "## Assignment \n",
    "The first thing we can do with a variable is \"assign\" it a value. This is done with the `=` operator. For example, `x = 217` assigns the value `217` to the variable `x`.\n",
    "\n",
    "`x = 217`.\n",
    "\n",
    "*Brief aside on what's happening under-the-hood*\n",
    "\n",
    "What does the computer *actually* do with this statement?\n",
    "It creates a variable name called x and associates the name x with a *pointer*\n",
    "The pointer points to a place in the memory of the computer.\n",
    "\n",
    "At that address, Python creates a standard structure that contains information about the nature and type of the information saved.\n",
    "\n",
    "If you looked at that location, it would have a bunch of 0s and 1s, which, read in a particular way, tell Python that it's an integer with the value 217."
   ]
  },
  {
   "cell_type": "code",
   "execution_count": null,
   "metadata": {},
   "outputs": [],
   "source": [
    "x = 217\n",
    "\n",
    "# This is the pointer to the memory location of x on your computer:\n",
    "bin(id(x))"
   ]
  },
  {
   "cell_type": "markdown",
   "metadata": {},
   "source": [
    "Okay, great! Now you can forget about pointers for the rest of your life, because we're using `Python`, not `C`! :P \n",
    "\n",
    "For our purposes, x **is** whatever data we assign to it."
   ]
  },
  {
   "cell_type": "code",
   "execution_count": null,
   "metadata": {
    "id": "paWjrdAqat40"
   },
   "outputs": [],
   "source": [
    "x = 10\n",
    "x + 4"
   ]
  },
  {
   "cell_type": "markdown",
   "metadata": {
    "id": "gbkUxHMLa0Ir"
   },
   "source": [
    "Variables are carried across cells. \n",
    "*(Note that the `+4` in the cell above did not \"persist\" because it was never assigned back to `x`)*"
   ]
  },
  {
   "cell_type": "code",
   "execution_count": null,
   "metadata": {
    "id": "pT2zuOkvayXe"
   },
   "outputs": [],
   "source": [
    "x + 2"
   ]
  },
  {
   "cell_type": "markdown",
   "metadata": {
    "id": "hOEJscFObIMO"
   },
   "source": [
    "Variable names in Python are traditionally lowercase, with underscores separating the words. Variables should be descriptive and unique."
   ]
  },
  {
   "cell_type": "code",
   "execution_count": null,
   "metadata": {
    "id": "_UmFDZi4bAkA"
   },
   "outputs": [],
   "source": [
    "starting_value = 2\n",
    "difference = 4\n",
    "ending_value = starting_value - difference\n",
    "print(ending_value)"
   ]
  },
  {
   "cell_type": "markdown",
   "metadata": {
    "id": "-KTgiLaUayjd"
   },
   "source": [
    "You can update a variables value"
   ]
  },
  {
   "cell_type": "code",
   "execution_count": null,
   "metadata": {
    "id": "LEUk3zTta1JH"
   },
   "outputs": [],
   "source": [
    "x = 3\n",
    "print(x)\n",
    "\n",
    "x = 4\n",
    "print(x)\n",
    "\n",
    "x = x + 1\n",
    "print(x)\n",
    "\n",
    "# Shorthand for incrementing x by 1:\n",
    "x += 1\n",
    "print(x)"
   ]
  },
  {
   "cell_type": "markdown",
   "metadata": {
    "id": "OLsGiGSiX4wM"
   },
   "source": [
    "Variable names cannot collide with certain protected values in Python. These values will be distinguished with a different color."
   ]
  },
  {
   "cell_type": "code",
   "execution_count": null,
   "metadata": {
    "id": "sXrfW7IiYB8R"
   },
   "outputs": [],
   "source": [
    "# INVALID\n",
    "assert = 1\n",
    "type = 1"
   ]
  },
  {
   "cell_type": "code",
   "execution_count": null,
   "metadata": {
    "id": "vSMnYWZ_WZbg"
   },
   "outputs": [],
   "source": [
    "# Realistic use of variables:\n",
    "biweekly_salary = 1240\n",
    "monthly_salary = 2 * biweekly_salary\n",
    "number_of_months_in_a_year = 12\n",
    "yearly_salary = number_of_months_in_a_year * monthly_salary\n",
    "yearly_salary"
   ]
  },
  {
   "cell_type": "markdown",
   "metadata": {
    "id": "e6chiMZzWeL9"
   },
   "source": [
    "## Types of variables\n",
    "\n",
    "Each variable has a type associated with it. As in math class, numbers without a decimal are called integers, and numbers with a decimal are called floats (short for floating point decimal numbers, because they're stored in scientific notation, where the decimal point can \"float\" around). \n",
    "Other types include things like Strings, lists, or more advanced types like Pandas `Dataframes`.\n",
    "\n"
   ]
  },
  {
   "cell_type": "markdown",
   "metadata": {},
   "source": [
    "**Bits and Bytes**\n",
    "\n",
    "Bits are fundamental zeroes and ones that are recorded and manipulated by the computer. A bit can only have the value of zero or one. We never see the bits unless we go out of our way.\n",
    "\n",
    "A byte is a set of 8 bits. The string of eight bits can be considered as a number in base 2, ranging in value from 0 (all bits off) to 255 (all bits on).\n",
    "\n",
    "Bytes can then be strung together to create more complicated and sophisticated values.\n"
   ]
  },
  {
   "cell_type": "markdown",
   "metadata": {},
   "source": [
    "**Boolean Variables**\n",
    "\n",
    "The simplest type of variable you will encounter take only 1 bit! They are \"Boolean\" variables (`bool` in Pythonic).\n",
    "\n",
    "A `bool` is either True or False. That's it! They're used for logic statements like `if`s and `while`s. (We'll come back to these soon!)"
   ]
  },
  {
   "cell_type": "code",
   "execution_count": null,
   "metadata": {},
   "outputs": [],
   "source": [
    "is_it_raining = True\n",
    "is_it_snowing = True\n",
    "\n",
    "# We'll come back to if statements - but for now, just know that they're a way to make decisions in code.\n",
    "if is_it_raining:\n",
    "    print(\"It's raining! Grab an umbrella.\")\n",
    "if is_it_snowing:\n",
    "    print(\"It's snowing! Grab your mittens.\")\n",
    "\n",
    "two_is_two = (2 == 2.)\n",
    "two_is_more_than_three = (2 > 3)\n",
    "\n",
    "if two_is_two and not two_is_more_than_three:\n",
    "    print(\"PHEW! Math is still working! 2 = 2, and 2 < 3.\")"
   ]
  },
  {
   "cell_type": "markdown",
   "metadata": {},
   "source": [
    "To go from one type to another, or to enforce a type, you can _cast_ values from one type to another.\n",
    "\n",
    "Python handles most type management, but it can come up with errors occasionally."
   ]
  },
  {
   "cell_type": "code",
   "execution_count": null,
   "metadata": {
    "id": "8eS9_i8wWx2O"
   },
   "outputs": [],
   "source": [
    "print(type(2.3))\n",
    "\n",
    "print(type(1))\n",
    "print(type(float(1)))\n",
    "\n",
    "decimal = 2.3\n",
    "whole_number = int(decimal)\n",
    "\n",
    "print(\"\\n\")\n",
    "print(\"Decimal types:\")\n",
    "print(\"number: \", decimal)\n",
    "print(\"type: \", type(decimal))\n",
    "\n",
    "print(\"\\n\")\n",
    "print(\"Whole number types:\")\n",
    "print(\"number: \",whole_number)\n",
    "print(\"type: \", type(whole_number))"
   ]
  },
  {
   "cell_type": "code",
   "execution_count": null,
   "metadata": {
    "id": "dQzedphLXgBc"
   },
   "outputs": [],
   "source": [
    "# You can also convert from a string to a float or integer, as long as the string can be interpreted as a number\n",
    "number_str = \"1\"\n",
    "number_int = int(number_str)\n",
    "\n",
    "print(\"String version: \", number_str, \" string version type: \", type(number_str))\n",
    "print(\"Int version: \", number_int, \" Int version type: \", type(number_int))\n"
   ]
  },
  {
   "cell_type": "markdown",
   "metadata": {
    "id": "fvl_nAh4krEr"
   },
   "source": [
    "### Strings\n",
    "\n",
    "A snippet of text is represented by a string value in Python. The word \"string\" is a computer science term for a sequence of characters. A string might contain a single character, a word, a sentence, or a whole book.\n",
    "\n",
    "To distinguish text data from actual code, we demarcate strings by putting quotation marks around them. Single quotes (') and double quotes (\") are both valid. The contents can be any sequence of characters, including numbers and symbols. "
   ]
  },
  {
   "cell_type": "code",
   "execution_count": null,
   "metadata": {
    "id": "FzsWEn98k8H5"
   },
   "outputs": [],
   "source": [
    "print(\"This is an example \", \"of a string\")"
   ]
  },
  {
   "cell_type": "markdown",
   "metadata": {
    "id": "snE2sAJdkxsq"
   },
   "source": [
    "There are some methods you can call on strings."
   ]
  },
  {
   "cell_type": "code",
   "execution_count": null,
   "metadata": {
    "id": "kG-IN7oYlHfp"
   },
   "outputs": [],
   "source": [
    "# Replace one letter\n",
    "'Hello'.replace('o', 'a')"
   ]
  },
  {
   "cell_type": "code",
   "execution_count": null,
   "metadata": {
    "id": "ZSMwHKO2lKtc"
   },
   "outputs": [],
   "source": [
    "'hitchhiker'.replace('hi', 'ma')"
   ]
  },
  {
   "cell_type": "code",
   "execution_count": null,
   "metadata": {},
   "outputs": [],
   "source": [
    "\"hello, world\".upper()"
   ]
  },
  {
   "cell_type": "markdown",
   "metadata": {},
   "source": [
    "You can combine strings, and manipulate them using `indexing`:"
   ]
  },
  {
   "cell_type": "code",
   "execution_count": null,
   "metadata": {},
   "outputs": [],
   "source": [
    "# Combining strings\n",
    "honorific = \"Mr.\"\n",
    "first_name = \"Potato\"\n",
    "last_name = \"Head\"\n",
    "print(\"My full name is: \" + honorific + \" \" + first_name + \" \" + last_name)\n",
    "\n",
    "# Indexing\n",
    "my_name = \"Mr. Potato Head\"\n",
    "call_me = my_name[4:10]\n",
    "print(\"But please, call me: \" + call_me)"
   ]
  },
  {
   "cell_type": "markdown",
   "metadata": {},
   "source": [
    "One of my **favorite** bits of modern Python is f-strings:\n",
    "These let you easily format complex combinations of information into your strings - all you need to do is add an f to the start of your string, and surround the code with {curly braces}!\n",
    "\n",
    "Syntax: \n",
    "\n",
    "```python\n",
    "\"This is a Normal string\"\n",
    "'This is a Normal string too - single quotes'\n",
    "f\"This is an f-string\"\n",
    "f'This is an f-string too - single quotes'\n",
    "f'This is an f-string with stuff in it {x**2 - 1/3}'\n",
    "```\n",
    "\n",
    "Let's look at some examples, and come up with a few!"
   ]
  },
  {
   "cell_type": "code",
   "execution_count": null,
   "metadata": {},
   "outputs": [],
   "source": [
    "print(f\"Again, my full name is: {honorific} {first_name} {last_name}, but you can call me {call_me}.\")"
   ]
  },
  {
   "cell_type": "markdown",
   "metadata": {
    "id": "3gLuxzDNe2z5"
   },
   "source": [
    "# If statements and booleans"
   ]
  },
  {
   "cell_type": "markdown",
   "metadata": {
    "id": "k_THLOAnjUyG"
   },
   "source": [
    "As discussed above, a boolean is either `True` or `False`. This can also be represented as 1 (True) or 0 (False). At the lowest level, all computer programs are eventually reduced down to 1s and 0s. At a high level, booleans are very useful for branching logic. "
   ]
  },
  {
   "cell_type": "code",
   "execution_count": null,
   "metadata": {
    "id": "8oRiANuwkdF5"
   },
   "outputs": [],
   "source": [
    "true = True\n",
    "false = False\n",
    "\n",
    "if true:\n",
    "  print(\"This is true\")\n",
    "\n",
    "if false:\n",
    "  print(\"Since this is false, this line will not get printed\")\n",
    "\n",
    "if not false:\n",
    "  print(\"This is not false\")"
   ]
  },
  {
   "cell_type": "code",
   "execution_count": null,
   "metadata": {
    "id": "aCG3b7N7k5RK"
   },
   "outputs": [],
   "source": [
    "# Change me\n",
    "a = True\n",
    "b = False\n",
    "\n",
    "if a and b:\n",
    "  print(\"Both a and b are true\")\n",
    "\n",
    "if a or b:\n",
    "  print(\"Either a or b is true (or both)\")\n",
    "\n",
    "if a == b:\n",
    "  print(\"A and b are equal\")\n",
    "\n",
    "if a != b:\n",
    "  print(\"a and b are not equal\")\n",
    "\n",
    "c = True\n",
    "\n",
    "if (a == b and c):\n",
    "  print(\"a and b are equal and c is true\")"
   ]
  },
  {
   "cell_type": "code",
   "execution_count": null,
   "metadata": {
    "id": "7yXiqjnfe5o5"
   },
   "outputs": [],
   "source": [
    "is_a_bird = False\n",
    "is_a_plane = False\n",
    "\n",
    "if not is_a_bird:\n",
    "  print(\"Is it a bird? No\")\n",
    "\n",
    "if not is_a_plane:\n",
    "  print(\"Is it a plane? No\")\n",
    "\n",
    "if not is_a_bird and not is_a_plane:\n",
    "  print(\"It's superman!\")\n"
   ]
  },
  {
   "cell_type": "markdown",
   "metadata": {
    "id": "mYlBkDjolxVD"
   },
   "source": [
    "Booleans can also be created through equality statements with numbers (and lots of other ways.)"
   ]
  },
  {
   "cell_type": "code",
   "execution_count": null,
   "metadata": {
    "id": "fKR5S1H2lwmQ"
   },
   "outputs": [],
   "source": [
    "x = 1\n",
    "y = 3\n",
    "c = True\n",
    "\n",
    "if x <= 10:\n",
    "  print(\"x is less than or equal to 10\")\n",
    "if x > -10 and x < 10:\n",
    "  print(\"X is between -10 and 10\")\n",
    "\n",
    "# This will NOT be printed, as it will evaluate to False\n",
    "if 2 < 1:\n",
    "  print(\"This will not be printed\")"
   ]
  },
  {
   "cell_type": "markdown",
   "metadata": {},
   "source": [
    "**Operators**\n",
    "\n",
    "Simply put, an operator *does* something to a variable. We'll look at a few examples of common operators:\n",
    "\n",
    "**Here are a few of the most common Python operators.**\n",
    "\n",
    "| Operator | Description |\n",
    "| --- | --- |\n",
    "| `()` | *(make a...)* tuple |\n",
    "| `[]` | *(make a...)* list |\n",
    "| `{}` | *(make a...)* dictionary |\n",
    "| `x+y` | plus |\n",
    "| `x-y` | minus |\n",
    "| `x*y` | times |\n",
    "| `x/y` | divide |\n",
    "| `x//y` | floor divide |\n",
    "| `x**y` | power |\n",
    "| `x[i]` | index |\n",
    "| `x[i:j:k]` | slice |\n",
    "| `x and y` | logical and |\n",
    "| `x or y` | logical or |\n",
    "| `not x` | logical negation |\n",
    "| `x == y` | logical equals |\n",
    "| `x > y` | logical greater than |\n",
    "| `x < y` | logical less than |\n",
    "| `x >= y` | logical greater than or equal to |\n",
    "| `x <= y` | logical less than or equal to |\n",
    "| `x != y` | logical not equals |\n"
   ]
  },
  {
   "cell_type": "code",
   "execution_count": null,
   "metadata": {},
   "outputs": [],
   "source": [
    "# Try out a few operators here!\n",
    "\n",
    "# add\n",
    "\n",
    "# subtract\n",
    "\n",
    "# multiply\n",
    "\n",
    "# divide\n",
    "\n",
    "# power\n",
    "\n",
    "# Make a list\n"
   ]
  },
  {
   "cell_type": "code",
   "execution_count": null,
   "metadata": {},
   "outputs": [],
   "source": [
    "# Try out a few logic operators, like ==, !=, <, >, <=, >=\n"
   ]
  },
  {
   "cell_type": "markdown",
   "metadata": {
    "id": "aawaKOAm-OGQ"
   },
   "source": [
    "# Errors"
   ]
  },
  {
   "cell_type": "markdown",
   "metadata": {
    "id": "cNt1BzQy-Pn1"
   },
   "source": [
    "## Syntax errors"
   ]
  },
  {
   "cell_type": "markdown",
   "metadata": {
    "id": "Ud_PBcs6-ziK"
   },
   "source": [
    "A Syntax error is an error in the way the program is written. **Syntax** refers to the structure of a program and the rules about that structure. For example, in English, a sentence must begin with a capital letter and end with a period. this sentence contains a syntax error. So does this one\n",
    "\n",
    "When these syntax errors are encountered in Python, the program will throw an error and stop."
   ]
  },
  {
   "cell_type": "code",
   "execution_count": null,
   "metadata": {
    "id": "7VWWn4uq_P0Z"
   },
   "outputs": [],
   "source": [
    "x = 3\n",
    "if (x = 9:\n",
    "    print(\"x is 9\")"
   ]
  },
  {
   "cell_type": "markdown",
   "metadata": {
    "id": "5MSLMEVI-WPo"
   },
   "source": [
    "## Logic Errors"
   ]
  },
  {
   "cell_type": "markdown",
   "metadata": {
    "id": "s4OFQ0nZ_ZLH"
   },
   "source": [
    "Logic errors can be difficult to track down. The program may run without errors, but behave in unexpected or incorrect ways. "
   ]
  },
  {
   "cell_type": "code",
   "execution_count": null,
   "metadata": {
    "id": "KEeoL-hV_jja"
   },
   "outputs": [],
   "source": [
    "# This computes (2 + 4) / 3 = 2.\n",
    "print(2 + 4 / 3)"
   ]
  },
  {
   "cell_type": "code",
   "execution_count": null,
   "metadata": {
    "id": "CvOuZpUW_5zl"
   },
   "outputs": [],
   "source": [
    "width = int(input(\"Please enter the width of a rectangle \"))\n",
    "height = int(input(\"Please enter the height of a rectangle \"))\n",
    "\n",
    "area = width * height\n",
    "print(\"The area of the rectangle is \" + str(area))\n",
    "\n",
    "perimeter = width + width + height\n",
    "print(\"The perimeter of the rectangle is \" + str(area))\n"
   ]
  },
  {
   "cell_type": "markdown",
   "metadata": {
    "id": "_-Smct1S-tOw"
   },
   "source": [
    "## Runtime Errors"
   ]
  },
  {
   "cell_type": "markdown",
   "metadata": {
    "id": "6ciiCmsTAA2q"
   },
   "source": [
    "Finally, there are runtime errors, so called because the error does not appear until you run the program. These errors are also called exceptions because they usually indicate that something exceptional (and bad) has happened."
   ]
  },
  {
   "cell_type": "code",
   "execution_count": null,
   "metadata": {
    "id": "okofttTZAiFP"
   },
   "outputs": [],
   "source": [
    "width = int(input(\"Please enter the width of a rectangle \"))\n",
    "height = int(input(\"Please enter the height of a rectangle \"))\n",
    "\n",
    "area = width * height\n",
    "print(\"The area of the rectangle is \" + str(area))\n",
    "\n",
    "perimeter = width + width + height\n",
    "print(\"The perimeter of the rectangle is \" + str(area))\n"
   ]
  },
  {
   "cell_type": "markdown",
   "metadata": {
    "id": "lD-e3d6RBdBp"
   },
   "source": [
    "# Application: Manhattan Distance"
   ]
  },
  {
   "cell_type": "markdown",
   "metadata": {
    "id": "ulEwtUP_NpvJ"
   },
   "source": [
    "Chunhua is on the corner of 7th Avenue and 42nd Street in Midtown Manhattan, and she wants to know far she'd have to walk to get to Gramercy School on the corner of 10th Avenue and 34th Street.\n",
    "\n",
    "She can't cut across blocks diagonally, since there are buildings in the way.  She has to walk along the sidewalks.  Using the map below, she sees she'd have to walk 3 avenues (long blocks) and 8 streets (short blocks).  In terms of the given numbers, she computed 3 as the difference between 7 and 10, *in absolute value*, and 8 similarly.  \n",
    "\n",
    "Chunhua also knows that blocks in Manhattan are all about 80m by 274m (avenues are farther apart than streets).  So in total, she'd have to walk $(80 \\times |42 - 34| + 274 \\times |7 - 10|)$ meters to get to the park.\n",
    "\n",
    "<img src=\"https://github.com/cu-applied-math/stem-camp-notebooks/blob/master/2021/PythonIntro/figs/map.jpg?raw=1\"/>\n",
    "\n",
    "### QUESTION 1\n",
    "Write some code to compute the distance Chunhua needs to walk. "
   ]
  },
  {
   "cell_type": "code",
   "execution_count": null,
   "metadata": {
    "id": "wIv7yXSgOR1q"
   },
   "outputs": [],
   "source": []
  },
  {
   "cell_type": "markdown",
   "metadata": {
    "id": "moELCqNrOSOP"
   },
   "source": [
    "## Answer"
   ]
  },
  {
   "cell_type": "code",
   "execution_count": null,
   "metadata": {
    "colab": {
     "base_uri": "https://localhost:8080/"
    },
    "id": "k_IHaTgONpvJ",
    "outputId": "03aecd35-3992-4136-f96c-59adc3f7a553"
   },
   "outputs": [],
   "source": [
    "# Here's the number of streets away:\n",
    "num_streets_away = abs(42-34)\n",
    "\n",
    "# Compute the number of avenues away in a similar way:\n",
    "num_avenues_away = abs(7-10)\n",
    "\n",
    "street_length_m = 80\n",
    "avenue_length_m = 274\n",
    "\n",
    "# Now we compute the total distance Chunhua must walk.\n",
    "manhattan_distance = street_length_m*num_streets_away + avenue_length_m*num_avenues_away\n",
    "\n",
    "# We've included this line so that you see the distance\n",
    "# you've computed when you run this cell.  You don't need\n",
    "# to change it, but you can if you want.\n",
    "manhattan_distance"
   ]
  },
  {
   "cell_type": "markdown",
   "metadata": {
    "id": "hAwXEcdpAuNL"
   },
   "source": [
    "# Functions and methods"
   ]
  },
  {
   "cell_type": "markdown",
   "metadata": {
    "id": "pLcARjgvYyV4"
   },
   "source": [
    "We have used some functions so far - things like `int()`, `print()`, and `input()` are all functions. What is a function? \n",
    "\n",
    "A function encapsulates a piece of code which can then be run easily and repeatedly without rewriting the code. All the functions we have used so far are built into Python. "
   ]
  },
  {
   "cell_type": "code",
   "execution_count": null,
   "metadata": {
    "id": "9GedIwCSZmuw"
   },
   "outputs": [],
   "source": [
    "# Using functions\n",
    "number = -10\n",
    "\n",
    "# A function can take in a value\n",
    "positive_number = abs(-10)\n",
    "\n",
    "# or multiple values\n",
    "bigger_number = max(number, positive_number)\n",
    "\n",
    "print(f'Our starting number is {number}. The absolute value of that number is {positive_number}, and the maximum of those two numbers is {bigger_number}.')"
   ]
  },
  {
   "cell_type": "markdown",
   "metadata": {
    "id": "BkpVqwl9e8H_"
   },
   "source": [
    "##### Multiple arguments\n",
    "Some functions take multiple arguments, separated by commas. For example, the built-in `max` function returns the maximum argument passed to it."
   ]
  },
  {
   "cell_type": "code",
   "execution_count": null,
   "metadata": {
    "id": "6_FZu_0he8IA"
   },
   "outputs": [],
   "source": [
    "max(2, -3, 4, -5)"
   ]
  },
  {
   "cell_type": "markdown",
   "metadata": {
    "id": "tGssZ8Y3a77l"
   },
   "source": [
    "You can define your own functions. Although functions can return values, they don't have to. This is an example of a function that does not return a value. "
   ]
  },
  {
   "cell_type": "code",
   "execution_count": null,
   "metadata": {
    "id": "r_9IvnFiaq5e"
   },
   "outputs": [],
   "source": [
    "# Our own max function\n",
    "def custom_max(first, second):\n",
    "  if first >= second:\n",
    "    print(\"The first is bigger than the second\")\n",
    "  else:\n",
    "    print(\"The second is bigger than the first\")\n",
    "\n"
   ]
  },
  {
   "cell_type": "code",
   "execution_count": null,
   "metadata": {
    "id": "D5tvk8YRbEgR"
   },
   "outputs": [],
   "source": [
    "custom_max(10, 11)\n",
    "\n",
    "test_variable = custom_max(10, 11)\n",
    "print(test_variable)"
   ]
  },
  {
   "cell_type": "markdown",
   "metadata": {},
   "source": [
    "#### None\n",
    "\n",
    "That `None` we received above is avery special constant used to indicate that a variable or expression doesn't have a meaningful value. You'll often want to use None to indicate a value has not been initialized yet.\n",
    "\n",
    "None evaluates to False:"
   ]
  },
  {
   "cell_type": "code",
   "execution_count": null,
   "metadata": {},
   "outputs": [],
   "source": [
    "if None:\n",
    "    print(\"This won't print\")"
   ]
  },
  {
   "cell_type": "markdown",
   "metadata": {
    "id": "Q7KQdJg9bT2H"
   },
   "source": [
    "To return something, we use the `return` key word. The best practice is to only return one thing at the end of the function."
   ]
  },
  {
   "cell_type": "code",
   "execution_count": null,
   "metadata": {
    "id": "GrMFn67YbNie"
   },
   "outputs": [],
   "source": [
    "def returnable_max(first, second):\n",
    "  if first >= second:\n",
    "    print(\"The first is bigger than the second\")\n",
    "    max = first\n",
    "  else:\n",
    "    print(\"The second is bigger than the first\")\n",
    "    max = second\n",
    "  return max"
   ]
  },
  {
   "cell_type": "code",
   "execution_count": null,
   "metadata": {
    "id": "uYncFtVVbgSh"
   },
   "outputs": [],
   "source": [
    "test_variable = returnable_max(10, 11)\n",
    "print(test_variable)"
   ]
  },
  {
   "cell_type": "code",
   "execution_count": null,
   "metadata": {
    "id": "DmJxKhl7bmn-"
   },
   "outputs": [],
   "source": [
    "# A function doesn't need to return anything, or accept any variables.\n",
    "def say_hi():\n",
    "  print(\"Hi!\")"
   ]
  },
  {
   "cell_type": "code",
   "execution_count": null,
   "metadata": {
    "id": "c35OjlqpbsvZ"
   },
   "outputs": [],
   "source": [
    "say_hi()"
   ]
  },
  {
   "cell_type": "markdown",
   "metadata": {
    "id": "luHeNqs4bRBu"
   },
   "source": [
    "The variables inside a function are unique to the inside of this function (they are \"scoped\" within the function). This means you can have clashing variable names without having them interact, but it's still best to give descriptive variable names, rather than always sticking to x, y, z."
   ]
  },
  {
   "cell_type": "code",
   "execution_count": null,
   "metadata": {
    "colab": {
     "base_uri": "https://localhost:8080/"
    },
    "id": "yCdVt2vHbQQg",
    "outputId": "81d391e3-8106-47aa-b294-74d685c1b5f0"
   },
   "outputs": [],
   "source": [
    "def add_up(x, y):\n",
    "  z = 10\n",
    "  return x + y + z\n",
    "\n",
    "x = 1\n",
    "y = 1\n",
    "z = 3\n",
    "add_up(x, y)"
   ]
  },
  {
   "cell_type": "markdown",
   "metadata": {},
   "source": [
    "### Giving good names and comments to functions:\n",
    "\n",
    "At a glance, the following function is fairly hard to interpret. *Maybe* not for this brilliant class, as you might recognize the number."
   ]
  },
  {
   "cell_type": "code",
   "execution_count": null,
   "metadata": {},
   "outputs": [],
   "source": [
    "def f(a, b, c):\n",
    "    return (6.67E-11 * a * b) / (c**2)\n"
   ]
  },
  {
   "cell_type": "markdown",
   "metadata": {},
   "source": [
    "Let's rewrite the function in a much easier to follow way."
   ]
  },
  {
   "cell_type": "code",
   "execution_count": null,
   "metadata": {},
   "outputs": [],
   "source": [
    "# We often write constants with all-caps, usually at the top of a file\n",
    "GRAVITATIONAL_CONSTANT = 6.67E-11  # units = m^3 * kg^-1 * s^-2\n",
    "\n",
    "\n",
    "# This is a function without much embellishment or any comments, but with better names.\n",
    "# It's already way easier to understand!\n",
    "def calculate_gravitational_force(mass1, mass2, distance):\n",
    "    # The comment in triple quotes below is a docstring, which explains what the function does\n",
    "    \"\"\"Calculate gravitation force\"\"\"\n",
    "    return (GRAVITATIONAL_CONSTANT * mass1 * mass2) / (distance**2)\n",
    "\n",
    "\n",
    "# Now we'll add docstrings and type hints\n",
    "def calculate_gravitational_force(mass1: float, mass2: float,\n",
    "                                  distance: float) -> float:\n",
    "    # The comment in triple quotes below is a docstring, which explains what the function does\n",
    "    \"\"\"Calculate the mutual attraction force of gravity between two massive bodies.\n",
    "\n",
    "    Parameters\n",
    "    ----------\n",
    "    mass1 : float\n",
    "        Mass of object 1 [kg]\n",
    "    mass2 : float\n",
    "        Mass of object 2 [kg]\n",
    "    distance : float\n",
    "        Distance between the two objects' centers of mass. [m]\n",
    "\n",
    "    Returns\n",
    "    -------\n",
    "    float\n",
    "        The strength of the force of gravity between the two masses [Newtons]\n",
    "    \"\"\"\n",
    "    return (GRAVITATIONAL_CONSTANT * mass1 * mass2) / (distance**2)\n"
   ]
  },
  {
   "cell_type": "markdown",
   "metadata": {},
   "source": [
    "Now that looks easier to follow!\n",
    "\n",
    "![](https://upload.wikimedia.org/wikipedia/commons/thumb/f/f2/Orbit2.gif/640px-Orbit2.gif)\n",
    "\n",
    "And if we do get lost and forget what the function does or how to use it, those type hints and docstrings before will *really* come in handy, like so!"
   ]
  },
  {
   "cell_type": "code",
   "execution_count": null,
   "metadata": {},
   "outputs": [],
   "source": [
    "calculate_gravitational_force?"
   ]
  },
  {
   "cell_type": "markdown",
   "metadata": {},
   "source": [
    "## Classes, Objects, and methods\n",
    "\n",
    "Classes and Objects are two deeply interrelated concepts. It can be tricky to understand one without the other. I'll go over the two concepts briefly, then we can see them in action to build understanding.\n",
    "\n",
    "### Objects and Instances:\n",
    "\n",
    "*Everything* in Python is an object. Name a \"thing\", it's an object.\n",
    "\n",
    "* The number `7` is an object.\n",
    "* The number `7.0` is an object.\n",
    "* `\"Hello, World!\"` is an object.\n",
    "* The function we built earlier, `calculate_gravitational_force()` is an object.\n",
    "\n",
    "Okay, but that doesn't do much on it's own to understand that everything's an object.\n",
    "\n",
    "A couple properties of Python Objects we should understand:\n",
    "* They're self-contained units\n",
    "* They can hold their own data (`attributes`) and functions (`methods`)"
   ]
  },
  {
   "cell_type": "markdown",
   "metadata": {},
   "source": [
    "\n",
    "### Classes in Python:\n",
    "![Blueprint](https://upload.wikimedia.org/wikipedia/commons/thumb/c/c9/Plan_Arbeiterwohnhaus_1897.jpg/640px-Plan_Arbeiterwohnhaus_1897.jpg)\n",
    "\n",
    "Classes are **blueprints** for building *things*. All sorts of things! Continuing with the common blueprint analogy, a class might be the blueprints for building a house, while the objects are specific houses made with the blueprint. This is a powerful concept, because it means you don't have to start over from scratch every time you want to make another house - you just re-use the same blueprint.\n",
    "\n",
    "Being the clever architects we are, we might worry - can we only build the same house over and over?! What about creativity? What if Alex wants a house with more windows? Or what if Brenda prefers an open floor plan, or if Cole is partial to yurts? Perhaps David wants an evil lair within a volcano! \n",
    "\n",
    "![](https://upload.wikimedia.org/wikipedia/commons/thumb/4/43/Volcanic_mountain.png/640px-Volcanic_mountain.png)\n",
    "\n",
    "Luckily, classes can be as customizable as we want. We can even split classes up into sub-classes which act in slightly different ways.\n",
    "\n",
    "\n",
    "\n",
    "By working as customizable blueprints, classes allow for elegant programming that keeps you, the programmer, organized even as the code gets complex.\n",
    "\n",
    "Going back to our object examples above:\n",
    "* The number `7` is an object, which is an instance of the `int` class.\n",
    "  * So are `8`, `9`, and `1000000000`\n",
    "* The number `7.0` is an object, which is an instance of the `float` class.\n",
    "  * As are `1.2345` and `-6.7E-89`\n",
    "* `\"Hello, World!\"` is an object, which is an instance of the `str` class.\n",
    "  * So are \"A\", \"bc\", and (if you want) the entirety of Tolstoy's \"War and Peace\", enclosed by quotation marks.\n",
    "* The function we built, `calculate_gravitational_force()` is an object, which is an instance of the function class.\n"
   ]
  },
  {
   "cell_type": "markdown",
   "metadata": {},
   "source": [
    "### Example class\n",
    "Let's make a couple example classes, and add a few methods, special functions which belong to that class and can be used by it:"
   ]
  },
  {
   "cell_type": "code",
   "execution_count": null,
   "metadata": {},
   "outputs": [],
   "source": [
    "class Animal:\n",
    "    \"\"\"Basic class for representing an animal with a name, sound, and species.\"\"\"\n",
    "    def __init__(self, name, species, radius=10, sound=None):\n",
    "        self.name = name\n",
    "        self.species = species\n",
    "        self.sound = sound\n",
    "        self.radius = radius\n",
    "\n",
    "        if self.sound is None:  # Set a reasonable default sound\n",
    "            self.sound = \"ring-a-ding-ding...\"\n",
    "\n",
    "    # This is a method: a function that belongs to a class.\n",
    "    def speak(self):\n",
    "        print(f\"{self.name}: {self.sound}!\")\n",
    "\n",
    "    # The repr method is a special method that returns an \"official\" string representation of an object\n",
    "    def __repr__(self):\n",
    "        return f\"{self.name} is a {self.species} - {self.sound}!\"\n",
    "\n",
    "    def calculate_volume(self):\n",
    "        print(f\"Assuming a spherical {self.species} for volume calculation...\")\n",
    "        volume = 4/3 * np.pi * self.radius**3\n",
    "        print(f\"\\tVolume of {self.name} is {volume:.2f} cubic centimeters.\")"
   ]
  },
  {
   "cell_type": "markdown",
   "metadata": {},
   "source": [
    "To see the `class` (think blueprint) in action, we need to make an `object` (think house) following those plans. We call this creation \"instantiating\" the class, and we call the object an \"instance\" of the class."
   ]
  },
  {
   "cell_type": "code",
   "execution_count": null,
   "metadata": {},
   "outputs": [],
   "source": [
    "# Make a dog (he's a very good boy)\n",
    "ned = Animal(\"Ned\", \"Dog\", radius=10, sound=\"ARWOOOOOF\")\n",
    "\n",
    "# Use some of his methods\n",
    "ned.speak()\n",
    "\n",
    "ned.calculate_volume()\n",
    "\n",
    "print(ned)"
   ]
  },
  {
   "cell_type": "markdown",
   "metadata": {
    "id": "CPLYs4i1YvXI"
   },
   "source": [
    "### What kinds of errors can you get with functions and methods?"
   ]
  },
  {
   "cell_type": "markdown",
   "metadata": {
    "id": "5_gGOxyebxfZ"
   },
   "source": [
    "## Possible errors"
   ]
  },
  {
   "cell_type": "code",
   "execution_count": null,
   "metadata": {
    "id": "OYZQRo9vb0Zt"
   },
   "outputs": [],
   "source": [
    "# wrong number of arguments (inputs) - returnable_max needs two arguments\n",
    "print(returnable_max(1))"
   ]
  },
  {
   "cell_type": "code",
   "execution_count": null,
   "metadata": {
    "id": "Xx94Gpj_b5WJ"
   },
   "outputs": [],
   "source": [
    "# Expecting a return from a function without a return statement\n",
    "max_value = custom_max(12, 13)\n",
    "print(max_value + 1)"
   ]
  },
  {
   "cell_type": "code",
   "execution_count": null,
   "metadata": {
    "id": "SWjgY8pGcNoJ"
   },
   "outputs": [],
   "source": [
    "# Mismatching types\n",
    "custom_max(1, \"hi!\")"
   ]
  },
  {
   "cell_type": "markdown",
   "metadata": {
    "id": "Wioio5YbbxZ-"
   },
   "source": [
    "## Exercise:\n",
    "Take your code that calculates the manhattan distance, above, and put it into a function. This function should take in the starting street, the ending street, the starting avenue, and the ending avenue, and return the distance walked. Remember that an avenue is 274m, and a street is 80m\n",
    "\n",
    "**Example input**: `compute_manhattan_dist(42, 34, 7, 10)`\n",
    "\n",
    "**Expected output**: 1462"
   ]
  },
  {
   "cell_type": "code",
   "execution_count": null,
   "metadata": {
    "id": "BwHBGZMocg43"
   },
   "outputs": [],
   "source": [
    "def compute_manhattan_dist(start_st, end_st, start_ave, end_ave):\n",
    "  return 0"
   ]
  },
  {
   "cell_type": "markdown",
   "metadata": {
    "id": "W_9VfZZdBRq_"
   },
   "source": [
    "# Compound variables:\n",
    "## Lists"
   ]
  },
  {
   "cell_type": "markdown",
   "metadata": {
    "id": "9Tpc9RQvXqJy"
   },
   "source": [
    "A list is an ordered set of values, where each value is identified by an index. The values that make up a list are called its elements. Lists are similar to strings, which are ordered sets of characters, except that the elements of a list can have any type."
   ]
  },
  {
   "cell_type": "code",
   "execution_count": null,
   "metadata": {
    "id": "2lsD4BdbXiZk"
   },
   "outputs": [],
   "source": [
    "[1, 2, 3, 4]\n",
    "[\"a\", \"b\", \"c\"]\n",
    "[1, \"cat\", [2, 3]]"
   ]
  },
  {
   "cell_type": "markdown",
   "metadata": {
    "id": "NPXchorEXzhn"
   },
   "source": [
    "To access values inside a list, we can use brackets"
   ]
  },
  {
   "cell_type": "code",
   "execution_count": null,
   "metadata": {
    "id": "YCIoW1haX2Sb"
   },
   "outputs": [],
   "source": [
    "list_1 = [1, 10, 20]\n",
    "print(list_1[1])"
   ]
  },
  {
   "cell_type": "markdown",
   "metadata": {
    "id": "gtnXvE6-YYq4"
   },
   "source": [
    "You can even go backwards:"
   ]
  },
  {
   "cell_type": "code",
   "execution_count": null,
   "metadata": {
    "id": "b9oMkQMSYboY"
   },
   "outputs": [],
   "source": [
    "print(list_1[-1])"
   ]
  },
  {
   "cell_type": "markdown",
   "metadata": {
    "id": "7xFi7oeOX8Od"
   },
   "source": [
    "You can update a value in a list the same way"
   ]
  },
  {
   "cell_type": "code",
   "execution_count": null,
   "metadata": {
    "id": "7tB5yqGYX-iR"
   },
   "outputs": [],
   "source": [
    "list_1[0] = 100\n",
    "print(list_1)"
   ]
  },
  {
   "cell_type": "code",
   "execution_count": null,
   "metadata": {
    "id": "aVbWveCRZ1kP"
   },
   "outputs": [],
   "source": [
    "list_1.append(1)\n",
    "print(list_1)"
   ]
  },
  {
   "cell_type": "markdown",
   "metadata": {
    "id": "8xArXRpDYENr"
   },
   "source": [
    "You can access a subsection of a list through a **slice**"
   ]
  },
  {
   "cell_type": "code",
   "execution_count": null,
   "metadata": {
    "id": "m6aWM2fWYKLQ"
   },
   "outputs": [],
   "source": [
    "list_2 = list_1[0:2]\n",
    "\n",
    "print(list_2)\n",
    "\n",
    "print(list_1[1:])"
   ]
  },
  {
   "cell_type": "markdown",
   "metadata": {
    "id": "TdAN4z0tZEjj"
   },
   "source": [
    "### n dimensional lists\n",
    "\n",
    "Lists can be multidimensional, meaning they can hold lists! You can index them with multiple indices, in their own brackets:"
   ]
  },
  {
   "cell_type": "code",
   "execution_count": null,
   "metadata": {
    "id": "ZIYiKl9YZHP1"
   },
   "outputs": [],
   "source": [
    "matrix = [[1, 2, 3], [4, 5, 6], [7, 8, 9]]\n",
    "\n",
    "# This list is a 3x3 matrix!\n",
    "print(matrix)\n",
    "\n",
    "print(matrix[0][0])\n",
    "print(matrix[1][-1])"
   ]
  },
  {
   "cell_type": "code",
   "execution_count": null,
   "metadata": {
    "id": "d--GmWMCeCoW"
   },
   "outputs": [],
   "source": [
    "print(len(matrix))\n",
    "print(len(matrix[0]))"
   ]
  },
  {
   "cell_type": "code",
   "execution_count": null,
   "metadata": {
    "id": "EG9o_iViaCoG"
   },
   "outputs": [],
   "source": [
    "empty_list = []\n",
    "\n",
    "if not empty_list:\n",
    "  print(\"This list is empty\")"
   ]
  },
  {
   "cell_type": "markdown",
   "metadata": {
    "id": "IvOzGSnSYmd0"
   },
   "source": [
    "### What kind of errors can you get with lists?"
   ]
  },
  {
   "cell_type": "markdown",
   "metadata": {
    "id": "GPPV_RngY3Xx"
   },
   "source": [
    "## Possible errors"
   ]
  },
  {
   "cell_type": "code",
   "execution_count": null,
   "metadata": {
    "id": "v8oky9UkY4tD"
   },
   "outputs": [],
   "source": [
    "print(f\"List_1 looks like: {list_1}\")\n",
    "list_1[3]"
   ]
  },
  {
   "cell_type": "code",
   "execution_count": null,
   "metadata": {
    "id": "wRSAv6AkY64n"
   },
   "outputs": [],
   "source": [
    "list_1[-4]"
   ]
  },
  {
   "cell_type": "code",
   "execution_count": null,
   "metadata": {
    "id": "srA7Ya9iZ8aW"
   },
   "outputs": [],
   "source": [
    "list_1[6] = 2\n"
   ]
  },
  {
   "cell_type": "markdown",
   "metadata": {},
   "source": [
    "Instead, you can append to your list:"
   ]
  },
  {
   "cell_type": "code",
   "execution_count": null,
   "metadata": {},
   "outputs": [],
   "source": [
    "list_1.append(2)\n",
    "print(f\"List_1 now looks like: {list_1}\")"
   ]
  },
  {
   "cell_type": "markdown",
   "metadata": {},
   "source": [
    "**Tuples and immutable types**\n",
    "\n",
    "Tuples are Lists which are immutable, meaning they can't be changed. You can over-write the variable name, but you can't change one of their values like you can with lists."
   ]
  },
  {
   "cell_type": "code",
   "execution_count": null,
   "metadata": {},
   "outputs": [],
   "source": [
    "my_tuple = (1, 2, 3)\n",
    "print(my_tuple)\n",
    "print(my_tuple[1])"
   ]
  },
  {
   "cell_type": "code",
   "execution_count": null,
   "metadata": {},
   "outputs": [],
   "source": [
    "# Now try to change a value - it gives an error:\n",
    "my_tuple[1] = 0"
   ]
  },
  {
   "cell_type": "markdown",
   "metadata": {
    "id": "jTDu3gVJAw0r"
   },
   "source": [
    "# Loops"
   ]
  },
  {
   "cell_type": "markdown",
   "metadata": {
    "id": "O3ZWKMnycdxZ"
   },
   "source": [
    "Repeated execution of a set of statements is called iteration. Because iteration is so common, Python provides several language features to make it easier. The first feature we are going to look at is the while statement."
   ]
  },
  {
   "cell_type": "code",
   "execution_count": null,
   "metadata": {
    "id": "xMXnEMQEdjTZ"
   },
   "outputs": [],
   "source": [
    "x = 0\n",
    "while x < 5:\n",
    "  print(x)\n",
    "  x = x + 1"
   ]
  },
  {
   "cell_type": "markdown",
   "metadata": {},
   "source": [
    "Even more common than the `while` loop is the `for` loop, which iterates through a list or similar object and does *something* with each element in the list."
   ]
  },
  {
   "cell_type": "code",
   "execution_count": null,
   "metadata": {
    "id": "kPN6TNzFBQ1X"
   },
   "outputs": [],
   "source": [
    "for item in [1, 2, 3, 4]:\n",
    "  print(item)\n",
    "\n",
    "print(\"\\nThe range function returns a list like this, starting as usual at 0:\")\n",
    "for item in range(4):\n",
    "  print(item + 1)"
   ]
  },
  {
   "cell_type": "markdown",
   "metadata": {
    "id": "ojtOV7LWBkrY"
   },
   "source": [
    "# Exercise: Lists"
   ]
  },
  {
   "cell_type": "markdown",
   "metadata": {
    "id": "mYYqJjv1CS5H"
   },
   "source": [
    "Given a list, output another list with each value squared.\n",
    "\n",
    "numbers = [1, 2, 3, 4, 5, 6, 7]\n",
    "\n",
    "Expected output:\n",
    "[1, 4, 9, 16, 25, 36, 49]"
   ]
  },
  {
   "cell_type": "code",
   "execution_count": null,
   "metadata": {
    "id": "2IIspiP_u_PK"
   },
   "outputs": [],
   "source": [
    "numbers = [1, 2, 3, 4, 5, 6, 7]"
   ]
  },
  {
   "cell_type": "markdown",
   "metadata": {
    "id": "HE9ZaaoWcpqO"
   },
   "source": [
    "## Manhattan distance as lists\n",
    "Write a function which accepts a list of starting and ending streets, and a list of starting and ending avenues. For each set of start and end points, call your manhattan distance function from before and return a list of the distance walked for each set of starting and ending points.\n",
    "\n",
    "**Example input**: \n",
    "streets = `[[1, 22], [4, 11], [23, 29]]`\n",
    "\n",
    "avenues = `[[2, 9], [33, 2], [30, 41]]`\n",
    "\n",
    "So the first set of points, you would be walking from 1st street, 2nd avenue, to 22nd street, 9th avenue. \n",
    "\n",
    "**Expected output:** `[3598, 9054, 3494]`\n"
   ]
  },
  {
   "cell_type": "code",
   "execution_count": null,
   "metadata": {
    "id": "P8Si8h8yd2nx"
   },
   "outputs": [],
   "source": [
    "def compute_multiple_distances(streets, avenues):\n",
    "  return []"
   ]
  },
  {
   "cell_type": "markdown",
   "metadata": {
    "id": "k_TFIc0ld1VT"
   },
   "source": [
    "### Answer"
   ]
  },
  {
   "cell_type": "code",
   "execution_count": null,
   "metadata": {
    "id": "WHU5mJHQd3Jf"
   },
   "outputs": [],
   "source": [
    "def compute_multiple_distances(streets, avenues):\n",
    "  index = 0\n",
    "  results = []\n",
    "  while index < len(streets):\n",
    "    street_pair = streets[index]\n",
    "    ave_pair = avenues[index]\n",
    "    print(street_pair)\n",
    "    dist = compute_manhattan_dist(street_pair[0], street_pair[1], ave_pair[0], ave_pair[1])\n",
    "    results.append(dist)\n",
    "    index = index + 1\n",
    "  return results\n",
    "\n",
    "compute_multiple_distances([[1, 2]], [[1,1]])"
   ]
  },
  {
   "cell_type": "markdown",
   "metadata": {},
   "source": [
    "## Dictonaries"
   ]
  },
  {
   "cell_type": "markdown",
   "metadata": {},
   "source": [
    "Dictionaries are a Python structure which is an unordered list of keys and values. This can consist of any type key pointing to any type value. "
   ]
  },
  {
   "cell_type": "code",
   "execution_count": null,
   "metadata": {},
   "outputs": [],
   "source": [
    "example_dict = {\"Picard\": \"Captain\", \"LaForge\": \"Chief Engineer\", \"Worf\": \"Lieutenant\"}\n",
    "\n",
    "print(example_dict)\n",
    "\n",
    "example_dict[\"Crusher\"] = \"Doctor\"\n",
    "\n",
    "print(example_dict)"
   ]
  },
  {
   "cell_type": "code",
   "execution_count": null,
   "metadata": {},
   "outputs": [],
   "source": [
    "mixed_types = {\n",
    "    \"dict\": { 3: 9, 2: 4},\n",
    "    \"list\": [2, 4, 6, 8], 30: 20\n",
    "}\n",
    "\n",
    "# Accessing a key's value in the dictionary\n",
    "print(mixed_types[\"dict\"][3])\n",
    "print(mixed_types[30])"
   ]
  },
  {
   "cell_type": "code",
   "execution_count": null,
   "metadata": {},
   "outputs": [],
   "source": [
    "# Looping through a dict\n",
    "\n",
    "for key, value in example_dict.items():\n",
    "    print(f\"{key} is a {value}\")\n",
    "\n",
    "print(\"\\nList of keys:\")\n",
    "# Order is NOT guarenteed\n",
    "for key in mixed_types.keys():\n",
    "    print(key)\n",
    "\n",
    "print(\"\\nList of values:\")\n",
    "for value in mixed_types.values():\n",
    "    print(value)"
   ]
  },
  {
   "cell_type": "markdown",
   "metadata": {},
   "source": [
    "# Numpy and Pandas overview"
   ]
  },
  {
   "cell_type": "markdown",
   "metadata": {},
   "source": [
    "Numpy and pandas are two python packages commonly used for data science applications. Numpy is a package which greatly improves on the existing math and data storage capablities of Python. Pandas is a package for creating and manipulating excel-like tables for managing data. "
   ]
  },
  {
   "cell_type": "markdown",
   "metadata": {},
   "source": [
    "## Numpy arrays"
   ]
  },
  {
   "cell_type": "markdown",
   "metadata": {},
   "source": [
    "Numpy Arrays are a key tool for efficiently evaluating and managing data. They are similar to lists, with a few key differences: \n",
    "\n",
    "- Math operations generally \"just work\" on arrays, in an easy to write and efficient way\n",
    "- The way arrays are created is different\n",
    "- Appending to arrays is inefficient - it is preferable to create an array of your expected size and then fill it\n",
    "- Managing multi-dimensional data in numpy arrays is easier"
   ]
  },
  {
   "cell_type": "code",
   "execution_count": null,
   "metadata": {},
   "outputs": [],
   "source": [
    "import numpy as np\n",
    "\n",
    "# Create a numpy array\n",
    "array1 = np.array([11, 12.0, 33])\n",
    "\n",
    "print(\"Array1: \")\n",
    "print(array1)\n",
    "\n",
    "# Get the shape of the array\n",
    "print(\"Shape of array1:\")\n",
    "print(np.shape(array1))\n",
    "\n",
    "print(\"\\n\")\n",
    "# Create an empty array\n",
    "array2 = np.zeros((2, 3))\n",
    "print(\"empty array2: \")\n",
    "print(array2)\n",
    "\n",
    "# Fill that array\n",
    "array2[0] = np.array([2.11, .002, 0.01])\n",
    "array2[1] = [3.4, 23, -1]\n",
    "print(\"\\n\")\n",
    "print(\"Filled array2:\")\n",
    "print(array2)\n",
    "print(array2.shape)"
   ]
  },
  {
   "cell_type": "markdown",
   "metadata": {},
   "source": [
    "### Math operations with `numpy` arrays\n",
    "\n",
    "We can perform math operations much more easily with numpy arrays:"
   ]
  },
  {
   "cell_type": "code",
   "execution_count": null,
   "metadata": {},
   "outputs": [],
   "source": [
    "list_1 = [1, 2, 3]\n",
    "list_2 = [4, 5, 6]\n",
    "\n",
    "# Slow and cumbersome way to add two lists\n",
    "list_of_sums = []\n",
    "for i in range(len(list_1)):\n",
    "    list_of_sums.append(list_1[i] + list_2[i])\n",
    "print(list_of_sums)"
   ]
  },
  {
   "cell_type": "code",
   "execution_count": null,
   "metadata": {},
   "outputs": [],
   "source": [
    "array1 = np.array(list_1)\n",
    "array2 = np.array(list_2)\n",
    "\n",
    "# Fast and easy way to add two numpy arrays\n",
    "array_of_sum = array1 + array2\n",
    "print(array_of_sum)"
   ]
  },
  {
   "cell_type": "markdown",
   "metadata": {},
   "source": [
    "We can do extremely fast and complex \"element-wise\" operations on numpy arrays.\n",
    "\n",
    "To demonstrate, we can take an evenly spaced grid of numbers between 1 and 20, and calculate a somewhat complicated function on them:\n",
    "\n",
    "$f(x) = {6 \\pi^2 \\times sin(x) \\over{x}} + x^{1.27}$"
   ]
  },
  {
   "cell_type": "code",
   "execution_count": null,
   "metadata": {},
   "outputs": [],
   "source": [
    "x = np.linspace(1, 20, 300)  # Make an array of 300 evenly spaced points between 1 and 20\n",
    "y = 6 * (np.pi ** 2) * np.sin(x) / x + x ** 1.27\n",
    "\n",
    "# Simple scatter plot of x, f(x)\n",
    "plt.scatter(x, y, s=1)\n",
    "plt.xlabel(\"x\"); plt.ylabel(\"f(x)\");"
   ]
  },
  {
   "cell_type": "code",
   "execution_count": null,
   "metadata": {},
   "outputs": [],
   "source": [
    "# Numpy has its own type system. Values in a numpy array must have the same type.\n",
    "\n",
    "print(f\"Type of array2: {type(array2)}\")\n",
    "print(f\"Type of elements in array2: {array2.dtype}\")"
   ]
  },
  {
   "cell_type": "code",
   "execution_count": null,
   "metadata": {},
   "outputs": [],
   "source": [
    "string_array = np.array([23, \"test\", 3])\n",
    "print(string_array)\n",
    "\n",
    "# All the values are converted to \"char\" type\n",
    "print(f\"string_array has a type of: {string_array.dtype}\")"
   ]
  },
  {
   "cell_type": "markdown",
   "metadata": {},
   "source": [
    "## Pandas Dataframes\n",
    "Dataframes are another way of organizing data. \n",
    "\n",
    "The equivalent to an array in pandas is called a **series**. A series is basically a one dimensional array.\n",
    "\n",
    "It also has a more complex data structure, called a **dataframe**. This is like a 2-dimensional array. It's easiest to think of this as like an excel spreadsheet, or like a database. It is structured into rows and columns. This is a powerful way of organizing data. \n",
    "\n",
    "Section inspired by: [10 minutes to pandas](https://pandas.pydata.org/pandas-docs/stable/user_guide/10min.html)"
   ]
  },
  {
   "cell_type": "code",
   "execution_count": null,
   "metadata": {},
   "outputs": [],
   "source": [
    "import pandas as pd\n",
    "\n",
    "first_series = pd.Series([1, 2, 3, 4])\n",
    "print(first_series)\n",
    "\n",
    "second_series = pd.Series(np.array([2, 3, 4, 5.0]))\n",
    "print(second_series)"
   ]
  },
  {
   "cell_type": "markdown",
   "metadata": {},
   "source": [
    "You can see that, just like the numpy arrays, each series has a type associated with it."
   ]
  },
  {
   "cell_type": "code",
   "execution_count": null,
   "metadata": {},
   "outputs": [],
   "source": [
    "# Creating your first dataframe\n",
    "dates = pd.date_range(\"20130101\", periods=20)\n",
    "\n",
    "print(\"dates: \", dates)\n",
    "\n",
    "# Create a dataframe with an index of the given dates, and the columns A-D. This is filled with a randomly generated array of size (6, 4)\n",
    "df = pd.DataFrame(np.random.randn(20, 4), index=dates, columns=list(\"ABCD\"))\n",
    "df"
   ]
  },
  {
   "cell_type": "markdown",
   "metadata": {},
   "source": [
    "Dataframes have powerful methods for applying functions to data, combining dataframes, removing data, and other tools. It is very helpful for reading in data files and cleaning and organizing data. "
   ]
  },
  {
   "cell_type": "code",
   "execution_count": null,
   "metadata": {},
   "outputs": [],
   "source": [
    "# Viewing data:\n",
    "df.head()"
   ]
  },
  {
   "cell_type": "code",
   "execution_count": null,
   "metadata": {},
   "outputs": [],
   "source": [
    "# Getting subsections of data\n",
    "# by column\n",
    "column_a = df[\"A\"]\n",
    "print(column_a)"
   ]
  },
  {
   "cell_type": "code",
   "execution_count": null,
   "metadata": {},
   "outputs": [],
   "source": [
    "# by slice\n",
    "rows = df[1:4]\n",
    "rows"
   ]
  },
  {
   "cell_type": "code",
   "execution_count": null,
   "metadata": {},
   "outputs": [],
   "source": [
    "# By label\n",
    "df.loc['2013-01-19']"
   ]
  },
  {
   "cell_type": "code",
   "execution_count": null,
   "metadata": {},
   "outputs": [],
   "source": [
    "# Multiple labels\n",
    "df.loc['2013-01-03':'2013-01-09', [\"A\", \"B\"]]"
   ]
  },
  {
   "cell_type": "code",
   "execution_count": null,
   "metadata": {},
   "outputs": [],
   "source": [
    "# Retrieve one value\n",
    "df.loc['2013-01-04', \"C\"]"
   ]
  },
  {
   "cell_type": "code",
   "execution_count": null,
   "metadata": {},
   "outputs": [],
   "source": [
    "# Selection by position\n",
    "df.iloc[2:4, :2]"
   ]
  },
  {
   "cell_type": "code",
   "execution_count": null,
   "metadata": {},
   "outputs": [],
   "source": [
    "# Comparing data\n",
    "# Show where df.A is greater than 0\n",
    "\n",
    "df[df[\"A\"] > 0]"
   ]
  },
  {
   "cell_type": "code",
   "execution_count": null,
   "metadata": {},
   "outputs": [],
   "source": [
    "# You can use where() to replace invalid values\n",
    "\n",
    "df[\"B\"] = df[\"B\"].where(df[\"B\"] > 0, np.nan)\n",
    "df"
   ]
  },
  {
   "cell_type": "code",
   "execution_count": null,
   "metadata": {},
   "outputs": [],
   "source": [
    "# Adding data\n",
    "s1 = pd.Series([1, 2, 3, 4, 5, 6], index=pd.date_range(\"20130104\", periods=6))\n",
    "df['D'] = s1\n",
    "df"
   ]
  },
  {
   "cell_type": "code",
   "execution_count": null,
   "metadata": {},
   "outputs": [],
   "source": [
    "df_no_nan = df.dropna()\n",
    "df_no_nan"
   ]
  },
  {
   "cell_type": "code",
   "execution_count": null,
   "metadata": {},
   "outputs": [],
   "source": [
    "df_no_nan = df.fillna(-9999)\n",
    "df_no_nan"
   ]
  },
  {
   "cell_type": "code",
   "execution_count": null,
   "metadata": {},
   "outputs": [],
   "source": [
    "# Applying functions to the data\n",
    "\n",
    "def add_ten(x):\n",
    "    return x + 10\n",
    "\n",
    "df.transform(add_ten)"
   ]
  },
  {
   "cell_type": "code",
   "execution_count": null,
   "metadata": {},
   "outputs": [],
   "source": [
    "df.transform(lambda x: x+20)"
   ]
  },
  {
   "cell_type": "code",
   "execution_count": null,
   "metadata": {},
   "outputs": [],
   "source": [
    "# Merging together dataframes\n",
    "\n",
    "new_df = pd.DataFrame(np.random.randn(20, 2), index=dates, columns=list(\"EF\"))\n",
    "new_df[\"labels\"] = pd.Series([\"one\", \"one\", \"two\", \"three\", \"four\", \"two\", \"one\", \"three\"], index=pd.date_range(\"20130104\", periods=8))\n",
    "\n",
    "merged_df = pd.concat([df,new_df], axis=1)\n",
    "merged_df"
   ]
  },
  {
   "cell_type": "code",
   "execution_count": null,
   "metadata": {
    "scrolled": true
   },
   "outputs": [],
   "source": [
    "merged_df.groupby('labels').sum()"
   ]
  },
  {
   "cell_type": "markdown",
   "metadata": {},
   "source": [
    "# Plotting basics\n",
    "\n",
    "We've already encountered plotting a bit along the way to visualize different tasks we were accomplishing. Let's go into a bit more detail about some common plotting methods."
   ]
  },
  {
   "cell_type": "code",
   "execution_count": null,
   "metadata": {},
   "outputs": [],
   "source": [
    "# The most common plotting library is probably matplotlib.\n",
    "import matplotlib.pyplot as plt"
   ]
  },
  {
   "cell_type": "code",
   "execution_count": null,
   "metadata": {},
   "outputs": [],
   "source": [
    "# Make data for plots: sin curve with noise\n",
    "x = np.linspace(0, 20, 100)\n",
    "y = np.sin(x) + 0.2 * (np.random.rand(x.size) - 0.5)\n",
    "\n",
    "# Simple line plot\n",
    "plt.plot(x, y)"
   ]
  },
  {
   "cell_type": "code",
   "execution_count": null,
   "metadata": {},
   "outputs": [],
   "source": [
    "# Simple scatter plot\n",
    "plt.scatter(x, y, s=1, c='r')"
   ]
  },
  {
   "cell_type": "code",
   "execution_count": null,
   "metadata": {},
   "outputs": [],
   "source": [
    "# More complex line plot\n",
    "plt.plot(x, y,\n",
    "         color='black', marker='o',\n",
    "         linestyle='dashed', linewidth=1,\n",
    "         markersize=2, markeredgecolor='red')\n",
    "\n",
    "# We can add some labels to the axes, and add a title\n",
    "plt.xlabel(\"time [s]\")\n",
    "plt.ylabel(\"signal amplitude [V]\")\n",
    "plt.title(\"Noisy sine wave\")"
   ]
  },
  {
   "cell_type": "code",
   "execution_count": null,
   "metadata": {},
   "outputs": [],
   "source": [
    "# We can also plot multiple lines on the same plot:\n",
    "y2 = np.cos(x)\n",
    "plt.plot(x, y, label='noisy $sin(x)$')\n",
    "plt.plot(x, y2, label='$cos(x)$')\n",
    "\n",
    "# Add horizontal lines at the mean of each function (axhline). To add vertical lines, use axvline.\n",
    "plt.axhline(y2.mean(), color='r', linestyle='--', label='mean of $cos(x)$ in range')\n",
    "plt.axhline(y.mean(), color='k', linestyle='dotted', label='mean of $sin(x)$ in range')\n",
    "\n",
    "# We call plt.legend() to show the labels\n",
    "plt.legend(loc=\"upper right\")\n",
    "\n",
    "plt.ylabel(\"Function value\")\n",
    "plt.title(\"Noisy sine wave\")\n",
    "plt.title(\"Several functions\")"
   ]
  },
  {
   "cell_type": "markdown",
   "metadata": {},
   "source": [
    "Investigating the documentation to figure out *exactly* how to do something new is a vital skill to any Pythonista, and any researcher!\n",
    "\n",
    "Time to practice reading the docs and putting it into practice! Look up how to plot with errorbars, and make a plot with the following points, and y-errors of 1 for all points"
   ]
  },
  {
   "cell_type": "code",
   "execution_count": null,
   "metadata": {},
   "outputs": [],
   "source": [
    "x = np.linspace(-5, 5, 200)\n",
    "y = 0.5 * x**2\n",
    "y[80] += 50\n",
    "y[120] += 50"
   ]
  },
  {
   "cell_type": "markdown",
   "metadata": {},
   "source": [
    "**Answer:**"
   ]
  },
  {
   "cell_type": "code",
   "execution_count": null,
   "metadata": {},
   "outputs": [],
   "source": [
    "x = np.linspace(-5, 5, 200)\n",
    "y = 0.5 * x**2\n",
    "y[80] += 50\n",
    "y[120] += 50\n",
    "\n",
    "yerr = 1\n",
    "\n",
    "plt.errorbar(x, y, yerr=yerr, fmt='o', color='yellow', elinewidth=1, capsize=0)"
   ]
  },
  {
   "cell_type": "code",
   "execution_count": null,
   "metadata": {},
   "outputs": [],
   "source": [
    "# One example of plotting using pandas methods - sometimes very convenient, but still using matplotlib under-the-hood\n",
    "ts = pd.Series(np.random.randn(1000), index=pd.date_range(\"1/1/2000\", periods=1000))\n",
    "\n",
    "ts = ts.cumsum()\n",
    "\n",
    "ts.plot()"
   ]
  },
  {
   "cell_type": "code",
   "execution_count": null,
   "metadata": {},
   "outputs": [],
   "source": [
    "# A complex example of plotting using matplotlib, varying the size and color based on the data\n",
    "\n",
    "np.random.seed(19680801)  # seed the random number generator.\n",
    "data = {'a': np.arange(50),\n",
    "        'c': np.random.randint(0, 50, 50),\n",
    "        'd': np.random.randn(50)}\n",
    "data['b'] = data['a'] + 10 * np.random.randn(50)\n",
    "data['d'] = np.abs(data['d']) * 100\n",
    "\n",
    "fig, ax = plt.subplots(figsize=(5, 2.7), layout='constrained')\n",
    "ax.scatter('a', 'b', c='c', s='d', alpha=0.8, data=data)\n",
    "ax.set_xlabel('entry a')\n",
    "ax.set_ylabel('entry b')\n"
   ]
  },
  {
   "cell_type": "code",
   "execution_count": null,
   "metadata": {},
   "outputs": [],
   "source": [
    "x = np.linspace(0, 2, 100)  # Sample data.\n",
    "\n",
    "plt.figure(figsize=(5, 2.7), layout='constrained')\n",
    "plt.plot(x, x, label='linear')  # Plot some data on the (implicit) Axes.\n",
    "plt.plot(x, x**2, label='quadratic')  # etc.\n",
    "plt.plot(x, x**3, label='cubic')\n",
    "plt.xlabel('x label')\n",
    "plt.ylabel('y label')\n",
    "plt.title(\"Simple Plot\")\n",
    "plt.legend()"
   ]
  },
  {
   "cell_type": "markdown",
   "metadata": {
    "id": "APgs2sU9APLE"
   },
   "source": [
    "# Sources"
   ]
  },
  {
   "cell_type": "markdown",
   "metadata": {
    "id": "YCj0wRvI1PV2"
   },
   "source": [
    "https://pandas.pydata.org/pandas-docs/stable/user_guide/10min.html\n",
    "\n",
    "http://openbookproject.net/thinkcs/python/english2e/index.html\n",
    "\n",
    "https://matplotlib.org/stable/users/explain/quick_start.html#quick-start"
   ]
  }
 ],
 "metadata": {
  "colab": {
   "collapsed_sections": [
    "FGts7vqfaEaS",
    "Gdy4Ws97aSb8",
    "kNrh1g-FadxZ",
    "wmT91apTaT65",
    "T9NwpGwcaqNy",
    "3gLuxzDNe2z5",
    "aawaKOAm-OGQ",
    "cNt1BzQy-Pn1",
    "5MSLMEVI-WPo",
    "_-Smct1S-tOw",
    "5_gGOxyebxfZ",
    "Wioio5YbbxZ-",
    "W_9VfZZdBRq_",
    "jTDu3gVJAw0r",
    "7xp5IEg7CdSz"
   ],
   "provenance": [],
   "toc_visible": true
  },
  "kernelspec": {
   "display_name": "Python 3 (ipykernel)",
   "language": "python",
   "name": "python3"
  },
  "language_info": {
   "codemirror_mode": {
    "name": "ipython",
    "version": 3
   },
   "file_extension": ".py",
   "mimetype": "text/x-python",
   "name": "python",
   "nbconvert_exporter": "python",
   "pygments_lexer": "ipython3",
   "version": "3.11.3"
  }
 },
 "nbformat": 4,
 "nbformat_minor": 4
}
