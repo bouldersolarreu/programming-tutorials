{
 "cells": [
  {
   "cell_type": "markdown",
   "id": "e09ef8a9",
   "metadata": {},
   "source": [
    "# Pandas and Datetime Hints"
   ]
  },
  {
   "cell_type": "code",
   "execution_count": 1,
   "id": "36df7e96",
   "metadata": {},
   "outputs": [],
   "source": [
    "import numpy as np\n",
    "import pandas as pd\n",
    "import matplotlib.pyplot as plt\n",
    "\n",
    "%matplotlib inline"
   ]
  },
  {
   "cell_type": "code",
   "execution_count": 2,
   "id": "d7dde94b",
   "metadata": {},
   "outputs": [],
   "source": [
    "df = pd.read_csv('../programming_1/data/noaa_goes12_xrs_1m.csv')"
   ]
  },
  {
   "cell_type": "code",
   "execution_count": 3,
   "id": "a455250f",
   "metadata": {},
   "outputs": [
    {
     "data": {
      "text/html": [
       "<div>\n",
       "<style scoped>\n",
       "    .dataframe tbody tr th:only-of-type {\n",
       "        vertical-align: middle;\n",
       "    }\n",
       "\n",
       "    .dataframe tbody tr th {\n",
       "        vertical-align: top;\n",
       "    }\n",
       "\n",
       "    .dataframe thead th {\n",
       "        text-align: right;\n",
       "    }\n",
       "</style>\n",
       "<table border=\"1\" class=\"dataframe\">\n",
       "  <thead>\n",
       "    <tr style=\"text-align: right;\">\n",
       "      <th></th>\n",
       "      <th>time (yyyy-MM-dd'T'HH:mm:ss)</th>\n",
       "      <th>shortwave (W/m^2)</th>\n",
       "      <th>longwave (W/m^2)</th>\n",
       "    </tr>\n",
       "  </thead>\n",
       "  <tbody>\n",
       "    <tr>\n",
       "      <th>0</th>\n",
       "      <td>2003-10-24T00:00:00</td>\n",
       "      <td>2.630000e-07</td>\n",
       "      <td>0.000005</td>\n",
       "    </tr>\n",
       "    <tr>\n",
       "      <th>1</th>\n",
       "      <td>2003-10-24T00:01:00</td>\n",
       "      <td>2.500000e-07</td>\n",
       "      <td>0.000005</td>\n",
       "    </tr>\n",
       "    <tr>\n",
       "      <th>2</th>\n",
       "      <td>2003-10-24T00:02:00</td>\n",
       "      <td>2.440000e-07</td>\n",
       "      <td>0.000005</td>\n",
       "    </tr>\n",
       "    <tr>\n",
       "      <th>3</th>\n",
       "      <td>2003-10-24T00:03:00</td>\n",
       "      <td>2.400000e-07</td>\n",
       "      <td>0.000005</td>\n",
       "    </tr>\n",
       "    <tr>\n",
       "      <th>4</th>\n",
       "      <td>2003-10-24T00:04:00</td>\n",
       "      <td>2.370000e-07</td>\n",
       "      <td>0.000005</td>\n",
       "    </tr>\n",
       "  </tbody>\n",
       "</table>\n",
       "</div>"
      ],
      "text/plain": [
       "  time (yyyy-MM-dd'T'HH:mm:ss)  shortwave (W/m^2)  longwave (W/m^2)\n",
       "0          2003-10-24T00:00:00       2.630000e-07          0.000005\n",
       "1          2003-10-24T00:01:00       2.500000e-07          0.000005\n",
       "2          2003-10-24T00:02:00       2.440000e-07          0.000005\n",
       "3          2003-10-24T00:03:00       2.400000e-07          0.000005\n",
       "4          2003-10-24T00:04:00       2.370000e-07          0.000005"
      ]
     },
     "execution_count": 3,
     "metadata": {},
     "output_type": "execute_result"
    }
   ],
   "source": [
    "df.head()"
   ]
  },
  {
   "cell_type": "code",
   "execution_count": 4,
   "id": "863c07f3",
   "metadata": {},
   "outputs": [
    {
     "data": {
      "text/html": [
       "<div>\n",
       "<style scoped>\n",
       "    .dataframe tbody tr th:only-of-type {\n",
       "        vertical-align: middle;\n",
       "    }\n",
       "\n",
       "    .dataframe tbody tr th {\n",
       "        vertical-align: top;\n",
       "    }\n",
       "\n",
       "    .dataframe thead th {\n",
       "        text-align: right;\n",
       "    }\n",
       "</style>\n",
       "<table border=\"1\" class=\"dataframe\">\n",
       "  <thead>\n",
       "    <tr style=\"text-align: right;\">\n",
       "      <th></th>\n",
       "      <th>time (yyyy-MM-dd'T'HH:mm:ss)</th>\n",
       "      <th>shortwave (W/m^2)</th>\n",
       "      <th>longwave (W/m^2)</th>\n",
       "    </tr>\n",
       "  </thead>\n",
       "  <tbody>\n",
       "    <tr>\n",
       "      <th>10076</th>\n",
       "      <td>2003-10-30T23:56:00</td>\n",
       "      <td>1.410000e-07</td>\n",
       "      <td>0.000003</td>\n",
       "    </tr>\n",
       "    <tr>\n",
       "      <th>10077</th>\n",
       "      <td>2003-10-30T23:57:00</td>\n",
       "      <td>1.440000e-07</td>\n",
       "      <td>0.000003</td>\n",
       "    </tr>\n",
       "    <tr>\n",
       "      <th>10078</th>\n",
       "      <td>2003-10-30T23:58:00</td>\n",
       "      <td>1.420000e-07</td>\n",
       "      <td>0.000003</td>\n",
       "    </tr>\n",
       "    <tr>\n",
       "      <th>10079</th>\n",
       "      <td>2003-10-30T23:59:00</td>\n",
       "      <td>1.410000e-07</td>\n",
       "      <td>0.000003</td>\n",
       "    </tr>\n",
       "    <tr>\n",
       "      <th>10080</th>\n",
       "      <td>2003-10-31T00:00:00</td>\n",
       "      <td>1.450000e-07</td>\n",
       "      <td>0.000003</td>\n",
       "    </tr>\n",
       "  </tbody>\n",
       "</table>\n",
       "</div>"
      ],
      "text/plain": [
       "      time (yyyy-MM-dd'T'HH:mm:ss)  shortwave (W/m^2)  longwave (W/m^2)\n",
       "10076          2003-10-30T23:56:00       1.410000e-07          0.000003\n",
       "10077          2003-10-30T23:57:00       1.440000e-07          0.000003\n",
       "10078          2003-10-30T23:58:00       1.420000e-07          0.000003\n",
       "10079          2003-10-30T23:59:00       1.410000e-07          0.000003\n",
       "10080          2003-10-31T00:00:00       1.450000e-07          0.000003"
      ]
     },
     "execution_count": 4,
     "metadata": {},
     "output_type": "execute_result"
    }
   ],
   "source": [
    "# Note: you can also see the last lines!\n",
    "df.tail()"
   ]
  },
  {
   "cell_type": "markdown",
   "id": "18c3609a",
   "metadata": {},
   "source": [
    "## Hint 1: Why the suspicious value at -100000"
   ]
  },
  {
   "cell_type": "code",
   "execution_count": 5,
   "id": "6fa84fa8",
   "metadata": {},
   "outputs": [
    {
     "data": {
      "text/plain": [
       "<AxesSubplot:xlabel=\"time (yyyy-MM-dd'T'HH:mm:ss)\">"
      ]
     },
     "execution_count": 5,
     "metadata": {},
     "output_type": "execute_result"
    },
    {
     "data": {
      "image/png": "[encoded data removed]",
      "text/plain": [
       "<Figure size 432x288 with 1 Axes>"
      ]
     },
     "metadata": {
      "needs_background": "light"
     },
     "output_type": "display_data"
    }
   ],
   "source": [
    "df.plot(\"time (yyyy-MM-dd'T'HH:mm:ss)\", 'shortwave (W/m^2)')"
   ]
  },
  {
   "cell_type": "markdown",
   "id": "71b00c8f",
   "metadata": {},
   "source": [
    "**How do you get rid of it?**"
   ]
  },
  {
   "cell_type": "code",
   "execution_count": 6,
   "id": "228ed048",
   "metadata": {},
   "outputs": [
    {
     "data": {
      "text/html": [
       "<div>\n",
       "<style scoped>\n",
       "    .dataframe tbody tr th:only-of-type {\n",
       "        vertical-align: middle;\n",
       "    }\n",
       "\n",
       "    .dataframe tbody tr th {\n",
       "        vertical-align: top;\n",
       "    }\n",
       "\n",
       "    .dataframe thead th {\n",
       "        text-align: right;\n",
       "    }\n",
       "</style>\n",
       "<table border=\"1\" class=\"dataframe\">\n",
       "  <thead>\n",
       "    <tr style=\"text-align: right;\">\n",
       "      <th></th>\n",
       "      <th>time (yyyy-MM-dd'T'HH:mm:ss)</th>\n",
       "      <th>shortwave (W/m^2)</th>\n",
       "      <th>longwave (W/m^2)</th>\n",
       "    </tr>\n",
       "  </thead>\n",
       "  <tbody>\n",
       "    <tr>\n",
       "      <th>10070</th>\n",
       "      <td>2003-10-30T23:56:00</td>\n",
       "      <td>1.410000e-07</td>\n",
       "      <td>0.000003</td>\n",
       "    </tr>\n",
       "    <tr>\n",
       "      <th>10071</th>\n",
       "      <td>2003-10-30T23:57:00</td>\n",
       "      <td>1.440000e-07</td>\n",
       "      <td>0.000003</td>\n",
       "    </tr>\n",
       "    <tr>\n",
       "      <th>10072</th>\n",
       "      <td>2003-10-30T23:58:00</td>\n",
       "      <td>1.420000e-07</td>\n",
       "      <td>0.000003</td>\n",
       "    </tr>\n",
       "    <tr>\n",
       "      <th>10073</th>\n",
       "      <td>2003-10-30T23:59:00</td>\n",
       "      <td>1.410000e-07</td>\n",
       "      <td>0.000003</td>\n",
       "    </tr>\n",
       "    <tr>\n",
       "      <th>10074</th>\n",
       "      <td>2003-10-31T00:00:00</td>\n",
       "      <td>1.450000e-07</td>\n",
       "      <td>0.000003</td>\n",
       "    </tr>\n",
       "  </tbody>\n",
       "</table>\n",
       "</div>"
      ],
      "text/plain": [
       "      time (yyyy-MM-dd'T'HH:mm:ss)  shortwave (W/m^2)  longwave (W/m^2)\n",
       "10070          2003-10-30T23:56:00       1.410000e-07          0.000003\n",
       "10071          2003-10-30T23:57:00       1.440000e-07          0.000003\n",
       "10072          2003-10-30T23:58:00       1.420000e-07          0.000003\n",
       "10073          2003-10-30T23:59:00       1.410000e-07          0.000003\n",
       "10074          2003-10-31T00:00:00       1.450000e-07          0.000003"
      ]
     },
     "execution_count": 6,
     "metadata": {},
     "output_type": "execute_result"
    }
   ],
   "source": [
    "df = df[df['shortwave (W/m^2)'] != -100000]\n",
    "\n",
    "# To reset indices, run reset_index with inplace=True\n",
    "df.reset_index(inplace=True, drop=True)\n",
    "\n",
    "# This shows the last 5 rows, notice the indices have changed\n",
    "df.tail(5)"
   ]
  },
  {
   "cell_type": "markdown",
   "id": "ee592130",
   "metadata": {},
   "source": [
    "## Hint 2: Advantages of datetime"
   ]
  },
  {
   "cell_type": "code",
   "execution_count": 7,
   "id": "0da97951",
   "metadata": {},
   "outputs": [
    {
     "data": {
      "text/plain": [
       "<AxesSubplot:xlabel=\"time (yyyy-MM-dd'T'HH:mm:ss)\">"
      ]
     },
     "execution_count": 7,
     "metadata": {},
     "output_type": "execute_result"
    },
    {
     "data": {
      "image/png": "[encoded data removed]",
      "text/plain": [
       "<Figure size 432x288 with 1 Axes>"
      ]
     },
     "metadata": {
      "needs_background": "light"
     },
     "output_type": "display_data"
    }
   ],
   "source": [
    "df.plot(\"time (yyyy-MM-dd'T'HH:mm:ss)\", 'shortwave (W/m^2)')"
   ]
  },
  {
   "cell_type": "markdown",
   "id": "6cbfbc55",
   "metadata": {},
   "source": [
    "Ewwwww...bad axis labels!"
   ]
  },
  {
   "cell_type": "code",
   "execution_count": 8,
   "id": "f60dba62",
   "metadata": {},
   "outputs": [
    {
     "name": "stderr",
     "output_type": "stream",
     "text": [
      "<ipython-input-8-437ab8c674c6>:1: SettingWithCopyWarning: \n",
      "A value is trying to be set on a copy of a slice from a DataFrame.\n",
      "Try using .loc[row_indexer,col_indexer] = value instead\n",
      "\n",
      "See the caveats in the documentation: https://pandas.pydata.org/pandas-docs/stable/user_guide/indexing.html#returning-a-view-versus-a-copy\n",
      "  df['datetime'] = pd.to_datetime(df[\"time (yyyy-MM-dd\\'T\\'HH:mm:ss)\"])\n"
     ]
    }
   ],
   "source": [
    "df['datetime'] = pd.to_datetime(df[\"time (yyyy-MM-dd\\'T\\'HH:mm:ss)\"])"
   ]
  },
  {
   "cell_type": "code",
   "execution_count": 9,
   "id": "08ad694d",
   "metadata": {},
   "outputs": [
    {
     "data": {
      "text/html": [
       "<div>\n",
       "<style scoped>\n",
       "    .dataframe tbody tr th:only-of-type {\n",
       "        vertical-align: middle;\n",
       "    }\n",
       "\n",
       "    .dataframe tbody tr th {\n",
       "        vertical-align: top;\n",
       "    }\n",
       "\n",
       "    .dataframe thead th {\n",
       "        text-align: right;\n",
       "    }\n",
       "</style>\n",
       "<table border=\"1\" class=\"dataframe\">\n",
       "  <thead>\n",
       "    <tr style=\"text-align: right;\">\n",
       "      <th></th>\n",
       "      <th>time (yyyy-MM-dd'T'HH:mm:ss)</th>\n",
       "      <th>shortwave (W/m^2)</th>\n",
       "      <th>longwave (W/m^2)</th>\n",
       "      <th>datetime</th>\n",
       "    </tr>\n",
       "  </thead>\n",
       "  <tbody>\n",
       "    <tr>\n",
       "      <th>0</th>\n",
       "      <td>2003-10-24T00:00:00</td>\n",
       "      <td>2.630000e-07</td>\n",
       "      <td>0.000005</td>\n",
       "      <td>2003-10-24 00:00:00</td>\n",
       "    </tr>\n",
       "    <tr>\n",
       "      <th>1</th>\n",
       "      <td>2003-10-24T00:01:00</td>\n",
       "      <td>2.500000e-07</td>\n",
       "      <td>0.000005</td>\n",
       "      <td>2003-10-24 00:01:00</td>\n",
       "    </tr>\n",
       "    <tr>\n",
       "      <th>2</th>\n",
       "      <td>2003-10-24T00:02:00</td>\n",
       "      <td>2.440000e-07</td>\n",
       "      <td>0.000005</td>\n",
       "      <td>2003-10-24 00:02:00</td>\n",
       "    </tr>\n",
       "    <tr>\n",
       "      <th>3</th>\n",
       "      <td>2003-10-24T00:03:00</td>\n",
       "      <td>2.400000e-07</td>\n",
       "      <td>0.000005</td>\n",
       "      <td>2003-10-24 00:03:00</td>\n",
       "    </tr>\n",
       "    <tr>\n",
       "      <th>4</th>\n",
       "      <td>2003-10-24T00:04:00</td>\n",
       "      <td>2.370000e-07</td>\n",
       "      <td>0.000005</td>\n",
       "      <td>2003-10-24 00:04:00</td>\n",
       "    </tr>\n",
       "  </tbody>\n",
       "</table>\n",
       "</div>"
      ],
      "text/plain": [
       "  time (yyyy-MM-dd'T'HH:mm:ss)  shortwave (W/m^2)  longwave (W/m^2)  \\\n",
       "0          2003-10-24T00:00:00       2.630000e-07          0.000005   \n",
       "1          2003-10-24T00:01:00       2.500000e-07          0.000005   \n",
       "2          2003-10-24T00:02:00       2.440000e-07          0.000005   \n",
       "3          2003-10-24T00:03:00       2.400000e-07          0.000005   \n",
       "4          2003-10-24T00:04:00       2.370000e-07          0.000005   \n",
       "\n",
       "             datetime  \n",
       "0 2003-10-24 00:00:00  \n",
       "1 2003-10-24 00:01:00  \n",
       "2 2003-10-24 00:02:00  \n",
       "3 2003-10-24 00:03:00  \n",
       "4 2003-10-24 00:04:00  "
      ]
     },
     "execution_count": 9,
     "metadata": {},
     "output_type": "execute_result"
    }
   ],
   "source": [
    "df.head()"
   ]
  },
  {
   "cell_type": "code",
   "execution_count": 10,
   "id": "d5e93a30",
   "metadata": {},
   "outputs": [
    {
     "data": {
      "text/plain": [
       "<AxesSubplot:xlabel='datetime'>"
      ]
     },
     "execution_count": 10,
     "metadata": {},
     "output_type": "execute_result"
    },
    {
     "data": {
      "image/png": "[encoded data removed]",
      "text/plain": [
       "<Figure size 432x288 with 1 Axes>"
      ]
     },
     "metadata": {
      "needs_background": "light"
     },
     "output_type": "display_data"
    }
   ],
   "source": [
    "df.plot(\"datetime\", 'shortwave (W/m^2)')"
   ]
  },
  {
   "cell_type": "markdown",
   "id": "a73c23ce",
   "metadata": {},
   "source": [
    "**Pretty x-axis!** We can also perform more mathematics on a datetime, such as find a time delta between the first and last rows."
   ]
  },
  {
   "cell_type": "code",
   "execution_count": 11,
   "id": "9f5b6e87",
   "metadata": {},
   "outputs": [
    {
     "name": "stdout",
     "output_type": "stream",
     "text": [
      "7 days 00:00:00\n"
     ]
    }
   ],
   "source": [
    "# iloc[-1] is the last row, iloc[0] is the first\n",
    "time_delt = df['datetime'].iloc[-1] - df['datetime'].iloc[0]\n",
    "print(time_delt)"
   ]
  },
  {
   "cell_type": "code",
   "execution_count": 12,
   "id": "e4f2683d",
   "metadata": {},
   "outputs": [
    {
     "data": {
      "text/plain": [
       "604800.0"
      ]
     },
     "execution_count": 12,
     "metadata": {},
     "output_type": "execute_result"
    }
   ],
   "source": [
    "# Want it in seconds?\n",
    "time_delt.total_seconds()"
   ]
  },
  {
   "cell_type": "code",
   "execution_count": null,
   "id": "d37d8641",
   "metadata": {},
   "outputs": [],
   "source": []
  }
 ],
 "metadata": {
  "kernelspec": {
   "display_name": "Python 3",
   "language": "python",
   "name": "python3"
  },
  "language_info": {
   "codemirror_mode": {
    "name": "ipython",
    "version": 3
   },
   "file_extension": ".py",
   "mimetype": "text/x-python",
   "name": "python",
   "nbconvert_exporter": "python",
   "pygments_lexer": "ipython3",
   "version": "3.8.8"
  }
 },
 "nbformat": 4,
 "nbformat_minor": 5
}
