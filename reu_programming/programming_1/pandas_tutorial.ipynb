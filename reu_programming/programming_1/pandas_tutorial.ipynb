{
 "cells": [
  {
   "cell_type": "markdown",
   "id": "adc11e78",
   "metadata": {},
   "source": [
    "# Pandas Tutorial\n",
    "\n",
    "In this tutorial, we wil review some basic Pandas capabilities in Python."
   ]
  },
  {
   "cell_type": "code",
   "execution_count": 1,
   "id": "ca70f299",
   "metadata": {},
   "outputs": [],
   "source": [
    "import numpy as np\n",
    "import pandas as pd\n",
    "import matplotlib.pyplot as plt\n",
    "\n",
    "%matplotlib inline"
   ]
  },
  {
   "cell_type": "markdown",
   "id": "05be996b",
   "metadata": {},
   "source": [
    "## Read in the data"
   ]
  },
  {
   "cell_type": "markdown",
   "id": "de8d5fd0",
   "metadata": {},
   "source": [
    "The pandas [read_csv](https://pandas.pydata.org/docs/reference/api/pandas.read_csv.html) function will load your csv file into a dataframe. "
   ]
  },
  {
   "cell_type": "code",
   "execution_count": 2,
   "id": "90667472",
   "metadata": {},
   "outputs": [],
   "source": [
    "df = pd.read_csv('./data/test_data.csv')"
   ]
  },
  {
   "cell_type": "markdown",
   "id": "07ba75ff",
   "metadata": {},
   "source": [
    "## Show the first few lines"
   ]
  },
  {
   "cell_type": "markdown",
   "id": "88e358fb",
   "metadata": {},
   "source": [
    "Use the pandas [head](https://pandas.pydata.org/docs/reference/api/pandas.DataFrame.head.html) function to display the first rows of a dataframe. You can also specify the number of rows to show, e.g., head(10) for the first 10 rows."
   ]
  },
  {
   "cell_type": "code",
   "execution_count": 3,
   "id": "76eb9717",
   "metadata": {},
   "outputs": [
    {
     "data": {
      "text/html": [
       "<div>\n",
       "<style scoped>\n",
       "    .dataframe tbody tr th:only-of-type {\n",
       "        vertical-align: middle;\n",
       "    }\n",
       "\n",
       "    .dataframe tbody tr th {\n",
       "        vertical-align: top;\n",
       "    }\n",
       "\n",
       "    .dataframe thead th {\n",
       "        text-align: right;\n",
       "    }\n",
       "</style>\n",
       "<table border=\"1\" class=\"dataframe\">\n",
       "  <thead>\n",
       "    <tr style=\"text-align: right;\">\n",
       "      <th></th>\n",
       "      <th>x</th>\n",
       "      <th>sin(x)</th>\n",
       "    </tr>\n",
       "  </thead>\n",
       "  <tbody>\n",
       "    <tr>\n",
       "      <th>0</th>\n",
       "      <td>0.00</td>\n",
       "      <td>0.000000</td>\n",
       "    </tr>\n",
       "    <tr>\n",
       "      <th>1</th>\n",
       "      <td>0.01</td>\n",
       "      <td>0.010000</td>\n",
       "    </tr>\n",
       "    <tr>\n",
       "      <th>2</th>\n",
       "      <td>0.02</td>\n",
       "      <td>0.019999</td>\n",
       "    </tr>\n",
       "    <tr>\n",
       "      <th>3</th>\n",
       "      <td>0.03</td>\n",
       "      <td>0.029996</td>\n",
       "    </tr>\n",
       "    <tr>\n",
       "      <th>4</th>\n",
       "      <td>0.04</td>\n",
       "      <td>0.039989</td>\n",
       "    </tr>\n",
       "    <tr>\n",
       "      <th>5</th>\n",
       "      <td>0.05</td>\n",
       "      <td>0.049979</td>\n",
       "    </tr>\n",
       "    <tr>\n",
       "      <th>6</th>\n",
       "      <td>0.06</td>\n",
       "      <td>0.059964</td>\n",
       "    </tr>\n",
       "  </tbody>\n",
       "</table>\n",
       "</div>"
      ],
      "text/plain": [
       "      x    sin(x)\n",
       "0  0.00  0.000000\n",
       "1  0.01  0.010000\n",
       "2  0.02  0.019999\n",
       "3  0.03  0.029996\n",
       "4  0.04  0.039989\n",
       "5  0.05  0.049979\n",
       "6  0.06  0.059964"
      ]
     },
     "execution_count": 3,
     "metadata": {},
     "output_type": "execute_result"
    }
   ],
   "source": [
    "df.head(7)"
   ]
  },
  {
   "cell_type": "markdown",
   "id": "e105d3eb",
   "metadata": {},
   "source": [
    "## Select a column"
   ]
  },
  {
   "cell_type": "markdown",
   "id": "8215ae11",
   "metadata": {},
   "source": [
    "To select a single column of data, put the name of that column in brackets, as shown below for the column name 'x'."
   ]
  },
  {
   "cell_type": "code",
   "execution_count": 4,
   "id": "93376c57",
   "metadata": {},
   "outputs": [
    {
     "data": {
      "text/plain": [
       "0      0.00\n",
       "1      0.01\n",
       "2      0.02\n",
       "3      0.03\n",
       "4      0.04\n",
       "       ... \n",
       "995    9.95\n",
       "996    9.96\n",
       "997    9.97\n",
       "998    9.98\n",
       "999    9.99\n",
       "Name: x, Length: 1000, dtype: float64"
      ]
     },
     "execution_count": 4,
     "metadata": {},
     "output_type": "execute_result"
    }
   ],
   "source": [
    "df['x']"
   ]
  },
  {
   "cell_type": "markdown",
   "id": "b407a317",
   "metadata": {},
   "source": [
    "Try this for the sin(x) column."
   ]
  },
  {
   "cell_type": "code",
   "execution_count": 5,
   "id": "c15e90dd",
   "metadata": {},
   "outputs": [
    {
     "data": {
      "text/plain": [
       "0      0.000000\n",
       "1      0.010000\n",
       "2      0.019999\n",
       "3      0.029996\n",
       "4      0.039989\n",
       "         ...   \n",
       "995   -0.501405\n",
       "996   -0.510032\n",
       "997   -0.518608\n",
       "998   -0.527132\n",
       "999   -0.535603\n",
       "Name: sin(x), Length: 1000, dtype: float64"
      ]
     },
     "execution_count": 5,
     "metadata": {},
     "output_type": "execute_result"
    }
   ],
   "source": [
    "df['sin(x)']"
   ]
  },
  {
   "cell_type": "markdown",
   "id": "87c576ef",
   "metadata": {},
   "source": [
    "## Find the max and min values"
   ]
  },
  {
   "cell_type": "markdown",
   "id": "36689322",
   "metadata": {},
   "source": [
    "To find the maximum value of a column, use the [max](https://pandas.pydata.org/docs/reference/api/pandas.DataFrame.max.html) function."
   ]
  },
  {
   "cell_type": "code",
   "execution_count": 6,
   "id": "d8412490",
   "metadata": {},
   "outputs": [
    {
     "data": {
      "text/plain": [
       "9.99"
      ]
     },
     "execution_count": 6,
     "metadata": {},
     "output_type": "execute_result"
    }
   ],
   "source": [
    "df['x'].max()"
   ]
  },
  {
   "cell_type": "markdown",
   "id": "a70d55d5",
   "metadata": {},
   "source": [
    "To find the minimum value of a column, use the [min](https://pandas.pydata.org/docs/reference/api/pandas.DataFrame.min.html) function."
   ]
  },
  {
   "cell_type": "code",
   "execution_count": 7,
   "id": "54b85646",
   "metadata": {},
   "outputs": [
    {
     "data": {
      "text/plain": [
       "0.0"
      ]
     },
     "execution_count": 7,
     "metadata": {},
     "output_type": "execute_result"
    }
   ],
   "source": [
    "df['x'].min()"
   ]
  },
  {
   "cell_type": "markdown",
   "id": "77c9ad67",
   "metadata": {},
   "source": [
    "Try this for the sin(x) column, too."
   ]
  },
  {
   "cell_type": "code",
   "execution_count": 8,
   "id": "6022345b",
   "metadata": {},
   "outputs": [
    {
     "data": {
      "text/plain": [
       "0.999999683"
      ]
     },
     "execution_count": 8,
     "metadata": {},
     "output_type": "execute_result"
    }
   ],
   "source": [
    "df['sin(x)'].max()"
   ]
  },
  {
   "cell_type": "code",
   "execution_count": 9,
   "id": "bd34abde",
   "metadata": {},
   "outputs": [
    {
     "data": {
      "text/plain": [
       "-0.999997146"
      ]
     },
     "execution_count": 9,
     "metadata": {},
     "output_type": "execute_result"
    }
   ],
   "source": [
    "df['sin(x)'].min()"
   ]
  },
  {
   "cell_type": "markdown",
   "id": "0407b1cb",
   "metadata": {},
   "source": [
    "## Create a new column"
   ]
  },
  {
   "cell_type": "markdown",
   "id": "8c9c448f",
   "metadata": {},
   "source": [
    "To create a new column, use the instructions [here](https://pandas.pydata.org/docs/getting_started/intro_tutorials/05_add_columns.html). For example, we can create a new cos(x) column, as shown below."
   ]
  },
  {
   "cell_type": "code",
   "execution_count": 10,
   "id": "995ff972",
   "metadata": {},
   "outputs": [],
   "source": [
    "df['cos(x)'] = np.cos(df['x'])"
   ]
  },
  {
   "cell_type": "markdown",
   "id": "43fda57a",
   "metadata": {},
   "source": [
    "Show the first few rows again to make sure your new column is there."
   ]
  },
  {
   "cell_type": "code",
   "execution_count": 11,
   "id": "52941c06",
   "metadata": {},
   "outputs": [
    {
     "data": {
      "text/html": [
       "<div>\n",
       "<style scoped>\n",
       "    .dataframe tbody tr th:only-of-type {\n",
       "        vertical-align: middle;\n",
       "    }\n",
       "\n",
       "    .dataframe tbody tr th {\n",
       "        vertical-align: top;\n",
       "    }\n",
       "\n",
       "    .dataframe thead th {\n",
       "        text-align: right;\n",
       "    }\n",
       "</style>\n",
       "<table border=\"1\" class=\"dataframe\">\n",
       "  <thead>\n",
       "    <tr style=\"text-align: right;\">\n",
       "      <th></th>\n",
       "      <th>x</th>\n",
       "      <th>sin(x)</th>\n",
       "      <th>cos(x)</th>\n",
       "    </tr>\n",
       "  </thead>\n",
       "  <tbody>\n",
       "    <tr>\n",
       "      <th>0</th>\n",
       "      <td>0.00</td>\n",
       "      <td>0.000000</td>\n",
       "      <td>1.00000</td>\n",
       "    </tr>\n",
       "    <tr>\n",
       "      <th>1</th>\n",
       "      <td>0.01</td>\n",
       "      <td>0.010000</td>\n",
       "      <td>0.99995</td>\n",
       "    </tr>\n",
       "    <tr>\n",
       "      <th>2</th>\n",
       "      <td>0.02</td>\n",
       "      <td>0.019999</td>\n",
       "      <td>0.99980</td>\n",
       "    </tr>\n",
       "    <tr>\n",
       "      <th>3</th>\n",
       "      <td>0.03</td>\n",
       "      <td>0.029996</td>\n",
       "      <td>0.99955</td>\n",
       "    </tr>\n",
       "    <tr>\n",
       "      <th>4</th>\n",
       "      <td>0.04</td>\n",
       "      <td>0.039989</td>\n",
       "      <td>0.99920</td>\n",
       "    </tr>\n",
       "  </tbody>\n",
       "</table>\n",
       "</div>"
      ],
      "text/plain": [
       "      x    sin(x)   cos(x)\n",
       "0  0.00  0.000000  1.00000\n",
       "1  0.01  0.010000  0.99995\n",
       "2  0.02  0.019999  0.99980\n",
       "3  0.03  0.029996  0.99955\n",
       "4  0.04  0.039989  0.99920"
      ]
     },
     "execution_count": 11,
     "metadata": {},
     "output_type": "execute_result"
    }
   ],
   "source": [
    "df.head()"
   ]
  },
  {
   "cell_type": "markdown",
   "id": "7b4c4796",
   "metadata": {},
   "source": [
    "## Write a function definition"
   ]
  },
  {
   "cell_type": "markdown",
   "id": "bd36f134",
   "metadata": {},
   "source": [
    "Now, let's try a function definition. We'll create a function that returns 1 - sin(x)."
   ]
  },
  {
   "cell_type": "code",
   "execution_count": 12,
   "id": "4c8279ca",
   "metadata": {},
   "outputs": [],
   "source": [
    "def one_minus_sin_x(sin_x):\n",
    "    return 1. - sin_x"
   ]
  },
  {
   "cell_type": "markdown",
   "id": "f03adac7",
   "metadata": {},
   "source": [
    "## Indexing"
   ]
  },
  {
   "cell_type": "markdown",
   "id": "75e193ae",
   "metadata": {},
   "source": [
    "Let's say we want to know the value of 1-sin(x) at the row index 10. We first want to find the value of sin(x) at row index 10, we do this by using [iloc](https://pandas.pydata.org/docs/reference/api/pandas.DataFrame.iloc.html)."
   ]
  },
  {
   "cell_type": "code",
   "execution_count": 13,
   "id": "f7bc27b9",
   "metadata": {},
   "outputs": [
    {
     "data": {
      "text/plain": [
       "0.099833417"
      ]
     },
     "execution_count": 13,
     "metadata": {},
     "output_type": "execute_result"
    }
   ],
   "source": [
    "df['sin(x)'].iloc[10]"
   ]
  },
  {
   "cell_type": "markdown",
   "id": "65e005fa",
   "metadata": {},
   "source": [
    "Just to double-check our work, use the head function to show the first 15 rows and make sure you got the correct sin(x) value for row index 10."
   ]
  },
  {
   "cell_type": "code",
   "execution_count": 14,
   "id": "495667e4",
   "metadata": {},
   "outputs": [
    {
     "data": {
      "text/html": [
       "<div>\n",
       "<style scoped>\n",
       "    .dataframe tbody tr th:only-of-type {\n",
       "        vertical-align: middle;\n",
       "    }\n",
       "\n",
       "    .dataframe tbody tr th {\n",
       "        vertical-align: top;\n",
       "    }\n",
       "\n",
       "    .dataframe thead th {\n",
       "        text-align: right;\n",
       "    }\n",
       "</style>\n",
       "<table border=\"1\" class=\"dataframe\">\n",
       "  <thead>\n",
       "    <tr style=\"text-align: right;\">\n",
       "      <th></th>\n",
       "      <th>x</th>\n",
       "      <th>sin(x)</th>\n",
       "      <th>cos(x)</th>\n",
       "    </tr>\n",
       "  </thead>\n",
       "  <tbody>\n",
       "    <tr>\n",
       "      <th>0</th>\n",
       "      <td>0.00</td>\n",
       "      <td>0.000000</td>\n",
       "      <td>1.000000</td>\n",
       "    </tr>\n",
       "    <tr>\n",
       "      <th>1</th>\n",
       "      <td>0.01</td>\n",
       "      <td>0.010000</td>\n",
       "      <td>0.999950</td>\n",
       "    </tr>\n",
       "    <tr>\n",
       "      <th>2</th>\n",
       "      <td>0.02</td>\n",
       "      <td>0.019999</td>\n",
       "      <td>0.999800</td>\n",
       "    </tr>\n",
       "    <tr>\n",
       "      <th>3</th>\n",
       "      <td>0.03</td>\n",
       "      <td>0.029996</td>\n",
       "      <td>0.999550</td>\n",
       "    </tr>\n",
       "    <tr>\n",
       "      <th>4</th>\n",
       "      <td>0.04</td>\n",
       "      <td>0.039989</td>\n",
       "      <td>0.999200</td>\n",
       "    </tr>\n",
       "    <tr>\n",
       "      <th>5</th>\n",
       "      <td>0.05</td>\n",
       "      <td>0.049979</td>\n",
       "      <td>0.998750</td>\n",
       "    </tr>\n",
       "    <tr>\n",
       "      <th>6</th>\n",
       "      <td>0.06</td>\n",
       "      <td>0.059964</td>\n",
       "      <td>0.998201</td>\n",
       "    </tr>\n",
       "    <tr>\n",
       "      <th>7</th>\n",
       "      <td>0.07</td>\n",
       "      <td>0.069943</td>\n",
       "      <td>0.997551</td>\n",
       "    </tr>\n",
       "    <tr>\n",
       "      <th>8</th>\n",
       "      <td>0.08</td>\n",
       "      <td>0.079915</td>\n",
       "      <td>0.996802</td>\n",
       "    </tr>\n",
       "    <tr>\n",
       "      <th>9</th>\n",
       "      <td>0.09</td>\n",
       "      <td>0.089879</td>\n",
       "      <td>0.995953</td>\n",
       "    </tr>\n",
       "    <tr>\n",
       "      <th>10</th>\n",
       "      <td>0.10</td>\n",
       "      <td>0.099833</td>\n",
       "      <td>0.995004</td>\n",
       "    </tr>\n",
       "    <tr>\n",
       "      <th>11</th>\n",
       "      <td>0.11</td>\n",
       "      <td>0.109778</td>\n",
       "      <td>0.993956</td>\n",
       "    </tr>\n",
       "    <tr>\n",
       "      <th>12</th>\n",
       "      <td>0.12</td>\n",
       "      <td>0.119712</td>\n",
       "      <td>0.992809</td>\n",
       "    </tr>\n",
       "    <tr>\n",
       "      <th>13</th>\n",
       "      <td>0.13</td>\n",
       "      <td>0.129634</td>\n",
       "      <td>0.991562</td>\n",
       "    </tr>\n",
       "    <tr>\n",
       "      <th>14</th>\n",
       "      <td>0.14</td>\n",
       "      <td>0.139543</td>\n",
       "      <td>0.990216</td>\n",
       "    </tr>\n",
       "  </tbody>\n",
       "</table>\n",
       "</div>"
      ],
      "text/plain": [
       "       x    sin(x)    cos(x)\n",
       "0   0.00  0.000000  1.000000\n",
       "1   0.01  0.010000  0.999950\n",
       "2   0.02  0.019999  0.999800\n",
       "3   0.03  0.029996  0.999550\n",
       "4   0.04  0.039989  0.999200\n",
       "5   0.05  0.049979  0.998750\n",
       "6   0.06  0.059964  0.998201\n",
       "7   0.07  0.069943  0.997551\n",
       "8   0.08  0.079915  0.996802\n",
       "9   0.09  0.089879  0.995953\n",
       "10  0.10  0.099833  0.995004\n",
       "11  0.11  0.109778  0.993956\n",
       "12  0.12  0.119712  0.992809\n",
       "13  0.13  0.129634  0.991562\n",
       "14  0.14  0.139543  0.990216"
      ]
     },
     "execution_count": 14,
     "metadata": {},
     "output_type": "execute_result"
    }
   ],
   "source": [
    "df.head(15)"
   ]
  },
  {
   "cell_type": "markdown",
   "id": "74e306ff",
   "metadata": {},
   "source": [
    "## Use our function to calculate 1-sin(x)"
   ]
  },
  {
   "cell_type": "markdown",
   "id": "c7057b73",
   "metadata": {},
   "source": [
    "Now, let's use our function definition to find 1-sin(x) for row index 10."
   ]
  },
  {
   "cell_type": "code",
   "execution_count": 15,
   "id": "e5798759",
   "metadata": {},
   "outputs": [
    {
     "data": {
      "text/plain": [
       "0.900166583"
      ]
     },
     "execution_count": 15,
     "metadata": {},
     "output_type": "execute_result"
    }
   ],
   "source": [
    "one_minus_sin_x(df['sin(x)'].iloc[10])"
   ]
  },
  {
   "cell_type": "markdown",
   "id": "dac90688",
   "metadata": {},
   "source": [
    "We can also apply this function to the entire sin(x) column and define a new column called '1-sin(x)' in our dataframe."
   ]
  },
  {
   "cell_type": "code",
   "execution_count": 16,
   "id": "87219455",
   "metadata": {},
   "outputs": [],
   "source": [
    "df['1-sin(x)'] = one_minus_sin_x(df['sin(x)'])"
   ]
  },
  {
   "cell_type": "markdown",
   "id": "a17cbdd2",
   "metadata": {},
   "source": [
    "Use head again to see our new column."
   ]
  },
  {
   "cell_type": "code",
   "execution_count": 17,
   "id": "ef3a1b44",
   "metadata": {},
   "outputs": [
    {
     "data": {
      "text/html": [
       "<div>\n",
       "<style scoped>\n",
       "    .dataframe tbody tr th:only-of-type {\n",
       "        vertical-align: middle;\n",
       "    }\n",
       "\n",
       "    .dataframe tbody tr th {\n",
       "        vertical-align: top;\n",
       "    }\n",
       "\n",
       "    .dataframe thead th {\n",
       "        text-align: right;\n",
       "    }\n",
       "</style>\n",
       "<table border=\"1\" class=\"dataframe\">\n",
       "  <thead>\n",
       "    <tr style=\"text-align: right;\">\n",
       "      <th></th>\n",
       "      <th>x</th>\n",
       "      <th>sin(x)</th>\n",
       "      <th>cos(x)</th>\n",
       "      <th>1-sin(x)</th>\n",
       "    </tr>\n",
       "  </thead>\n",
       "  <tbody>\n",
       "    <tr>\n",
       "      <th>0</th>\n",
       "      <td>0.00</td>\n",
       "      <td>0.000000</td>\n",
       "      <td>1.00000</td>\n",
       "      <td>1.000000</td>\n",
       "    </tr>\n",
       "    <tr>\n",
       "      <th>1</th>\n",
       "      <td>0.01</td>\n",
       "      <td>0.010000</td>\n",
       "      <td>0.99995</td>\n",
       "      <td>0.990000</td>\n",
       "    </tr>\n",
       "    <tr>\n",
       "      <th>2</th>\n",
       "      <td>0.02</td>\n",
       "      <td>0.019999</td>\n",
       "      <td>0.99980</td>\n",
       "      <td>0.980001</td>\n",
       "    </tr>\n",
       "    <tr>\n",
       "      <th>3</th>\n",
       "      <td>0.03</td>\n",
       "      <td>0.029996</td>\n",
       "      <td>0.99955</td>\n",
       "      <td>0.970005</td>\n",
       "    </tr>\n",
       "    <tr>\n",
       "      <th>4</th>\n",
       "      <td>0.04</td>\n",
       "      <td>0.039989</td>\n",
       "      <td>0.99920</td>\n",
       "      <td>0.960011</td>\n",
       "    </tr>\n",
       "  </tbody>\n",
       "</table>\n",
       "</div>"
      ],
      "text/plain": [
       "      x    sin(x)   cos(x)  1-sin(x)\n",
       "0  0.00  0.000000  1.00000  1.000000\n",
       "1  0.01  0.010000  0.99995  0.990000\n",
       "2  0.02  0.019999  0.99980  0.980001\n",
       "3  0.03  0.029996  0.99955  0.970005\n",
       "4  0.04  0.039989  0.99920  0.960011"
      ]
     },
     "execution_count": 17,
     "metadata": {},
     "output_type": "execute_result"
    }
   ],
   "source": [
    "df.head()"
   ]
  },
  {
   "cell_type": "markdown",
   "id": "5c73bb7d",
   "metadata": {},
   "source": [
    "## Plotting"
   ]
  },
  {
   "cell_type": "markdown",
   "id": "c9edce51",
   "metadata": {},
   "source": [
    "There are two ways to plot a pandas dataframe. One is to use the pandas [plot](https://pandas.pydata.org/docs/reference/api/pandas.DataFrame.plot.html) function."
   ]
  },
  {
   "cell_type": "code",
   "execution_count": 18,
   "id": "831b6898",
   "metadata": {},
   "outputs": [
    {
     "data": {
      "text/plain": [
       "<AxesSubplot:xlabel='x'>"
      ]
     },
     "execution_count": 18,
     "metadata": {},
     "output_type": "execute_result"
    },
    {
     "data": {
      "image/png": "[encoded data removed]",
      "text/plain": [
       "<Figure size 432x288 with 1 Axes>"
      ]
     },
     "metadata": {
      "needs_background": "light"
     },
     "output_type": "display_data"
    }
   ],
   "source": [
    "df.plot('x', 'sin(x)')"
   ]
  },
  {
   "cell_type": "markdown",
   "id": "8000b1b2",
   "metadata": {},
   "source": [
    "The other is to use the [plot](https://matplotlib.org/stable/api/_as_gen/matplotlib.pyplot.plot.html) function in matplotlib pyplot. You can even add a title and axis labels!\n",
    "\n",
    "**Let's try this for x vs. sin(x), x vs. cos(x), and x vs. 1-sin(x)**"
   ]
  },
  {
   "cell_type": "code",
   "execution_count": 19,
   "id": "c1a29211",
   "metadata": {},
   "outputs": [
    {
     "data": {
      "text/plain": [
       "Text(0, 0.5, 'sin(x)')"
      ]
     },
     "execution_count": 19,
     "metadata": {},
     "output_type": "execute_result"
    },
    {
     "data": {
      "image/png": "[encoded data removed]",
      "text/plain": [
       "<Figure size 432x288 with 1 Axes>"
      ]
     },
     "metadata": {
      "needs_background": "light"
     },
     "output_type": "display_data"
    }
   ],
   "source": [
    "plt.plot(df['x'], df['sin(x)'])\n",
    "plt.title('x vs. sin(x)')\n",
    "plt.xlabel('x')\n",
    "plt.ylabel('sin(x)')"
   ]
  },
  {
   "cell_type": "markdown",
   "id": "84aadd43",
   "metadata": {},
   "source": [
    "For cos(x), I'll try a new color."
   ]
  },
  {
   "cell_type": "code",
   "execution_count": 20,
   "id": "d8fb6e38",
   "metadata": {},
   "outputs": [
    {
     "data": {
      "text/plain": [
       "Text(0, 0.5, 'cos(x)')"
      ]
     },
     "execution_count": 20,
     "metadata": {},
     "output_type": "execute_result"
    },
    {
     "data": {
      "image/png": "[encoded data removed]",
      "text/plain": [
       "<Figure size 432x288 with 1 Axes>"
      ]
     },
     "metadata": {
      "needs_background": "light"
     },
     "output_type": "display_data"
    }
   ],
   "source": [
    "plt.plot(df['x'], df['cos(x)'], color='red')\n",
    "plt.title('x vs. cos(x)')\n",
    "plt.xlabel('x')\n",
    "plt.ylabel('cos(x)')"
   ]
  },
  {
   "cell_type": "markdown",
   "id": "7471c96d",
   "metadata": {},
   "source": [
    "We can also use the [scatter](https://matplotlib.org/stable/api/_as_gen/matplotlib.pyplot.scatter.html) function to plot points instead of a line."
   ]
  },
  {
   "cell_type": "code",
   "execution_count": 21,
   "id": "f9c7bd88",
   "metadata": {},
   "outputs": [
    {
     "data": {
      "text/plain": [
       "Text(0, 0.5, '1-sin(x)')"
      ]
     },
     "execution_count": 21,
     "metadata": {},
     "output_type": "execute_result"
    },
    {
     "data": {
      "image/png": "[encoded data removed]",
      "text/plain": [
       "<Figure size 432x288 with 1 Axes>"
      ]
     },
     "metadata": {
      "needs_background": "light"
     },
     "output_type": "display_data"
    }
   ],
   "source": [
    "plt.scatter(df['x'], df['1-sin(x)'], marker='.', color='green')\n",
    "plt.title('x vs. 1-sin(x)')\n",
    "plt.xlabel('x')\n",
    "plt.ylabel('1-sin(x)')"
   ]
  },
  {
   "cell_type": "markdown",
   "id": "b792fe07",
   "metadata": {},
   "source": [
    "And we can change the x limits to show the individual points."
   ]
  },
  {
   "cell_type": "code",
   "execution_count": 22,
   "id": "c4b0b74c",
   "metadata": {},
   "outputs": [
    {
     "data": {
      "text/plain": [
       "(0.0, 0.5)"
      ]
     },
     "execution_count": 22,
     "metadata": {},
     "output_type": "execute_result"
    },
    {
     "data": {
      "image/png": "[encoded data removed]",
      "text/plain": [
       "<Figure size 432x288 with 1 Axes>"
      ]
     },
     "metadata": {
      "needs_background": "light"
     },
     "output_type": "display_data"
    }
   ],
   "source": [
    "plt.scatter(df['x'], df['1-sin(x)'], marker='.', color='green')\n",
    "plt.title('x vs. 1-sin(x)')\n",
    "plt.xlabel('x')\n",
    "plt.ylabel('1-sin(x)')\n",
    "plt.xlim(0,0.5)"
   ]
  },
  {
   "cell_type": "code",
   "execution_count": null,
   "id": "2ca56d42",
   "metadata": {},
   "outputs": [],
   "source": []
  }
 ],
 "metadata": {
  "kernelspec": {
   "display_name": "Python 3 (ipykernel)",
   "language": "python",
   "name": "python3"
  },
  "language_info": {
   "codemirror_mode": {
    "name": "ipython",
    "version": 3
   },
   "file_extension": ".py",
   "mimetype": "text/x-python",
   "name": "python",
   "nbconvert_exporter": "python",
   "pygments_lexer": "ipython3",
   "version": "3.11.7"
  }
 },
 "nbformat": 4,
 "nbformat_minor": 5
}
